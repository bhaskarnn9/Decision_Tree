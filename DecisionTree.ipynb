{
 "cells": [
  {
   "cell_type": "markdown",
   "metadata": {},
   "source": [
    "import statements"
   ]
  },
  {
   "cell_type": "code",
   "execution_count": 1,
   "metadata": {
    "pycharm": {
     "is_executing": false
    }
   },
   "outputs": [],
   "source": [
    "import pandas as pd\n",
    "from sklearn.model_selection import train_test_split\n",
    "from sklearn.tree import DecisionTreeClassifier\n",
    "from sklearn.model_selection import GridSearchCV\n",
    "from sklearn.metrics import accuracy_score, confusion_matrix, recall_score\n",
    "from sklearn.tree import export_graphviz\n",
    "from sklearn import tree\n",
    "from matplotlib import pyplot as plt\n",
    "import numpy as np\n",
    "import seaborn as sns\n",
    "import graphviz"
   ]
  },
  {
   "cell_type": "markdown",
   "metadata": {},
   "source": [
    "read csv"
   ]
  },
  {
   "cell_type": "code",
   "execution_count": 2,
   "metadata": {
    "pycharm": {
     "is_executing": false
    }
   },
   "outputs": [],
   "source": [
    "data = pd.read_csv('input/BackOrders.csv')"
   ]
  },
  {
   "cell_type": "markdown",
   "metadata": {},
   "source": [
    "head"
   ]
  },
  {
   "cell_type": "code",
   "execution_count": 3,
   "metadata": {
    "pycharm": {
     "is_executing": false
    }
   },
   "outputs": [
    {
     "data": {
      "application/vnd.dataresource+json": {
       "data": [
        {
         "deck_risk": "No",
         "forecast_3_month": 0,
         "forecast_6_month": 0,
         "forecast_9_month": 0,
         "in_transit_qty": 0,
         "index": 0,
         "lead_time": null,
         "local_bo_qty": 0,
         "min_bank": 1,
         "national_inv": 117,
         "oe_constraint": "No",
         "perf_12_month_avg": -99,
         "perf_6_month_avg": -99,
         "pieces_past_due": 0,
         "potential_issue": "No",
         "ppap_risk": "Yes",
         "rev_stop": "No",
         "sales_1_month": 0,
         "sales_3_month": 0,
         "sales_6_month": 15,
         "sales_9_month": 15,
         "sku": 1888279,
         "stop_auto_buy": "Yes",
         "went_on_backorder": "No"
        },
        {
         "deck_risk": "Yes",
         "forecast_3_month": 0,
         "forecast_6_month": 0,
         "forecast_9_month": 0,
         "in_transit_qty": 0,
         "index": 1,
         "lead_time": 2,
         "local_bo_qty": 0,
         "min_bank": 0,
         "national_inv": 7,
         "oe_constraint": "No",
         "perf_12_month_avg": 0.28,
         "perf_6_month_avg": 0.5,
         "pieces_past_due": 0,
         "potential_issue": "No",
         "ppap_risk": "No",
         "rev_stop": "No",
         "sales_1_month": 0,
         "sales_3_month": 0,
         "sales_6_month": 0,
         "sales_9_month": 0,
         "sku": 1870557,
         "stop_auto_buy": "Yes",
         "went_on_backorder": "No"
        },
        {
         "deck_risk": "No",
         "forecast_3_month": 10,
         "forecast_6_month": 77,
         "forecast_9_month": 184,
         "in_transit_qty": 10,
         "index": 2,
         "lead_time": 15,
         "local_bo_qty": 0,
         "min_bank": 47,
         "national_inv": 258,
         "oe_constraint": "No",
         "perf_12_month_avg": 0.7,
         "perf_6_month_avg": 0.54,
         "pieces_past_due": 0,
         "potential_issue": "No",
         "ppap_risk": "No",
         "rev_stop": "No",
         "sales_1_month": 46,
         "sales_3_month": 132,
         "sales_6_month": 256,
         "sales_9_month": 365,
         "sku": 1475481,
         "stop_auto_buy": "Yes",
         "went_on_backorder": "No"
        },
        {
         "deck_risk": "Yes",
         "forecast_3_month": 0,
         "forecast_6_month": 0,
         "forecast_9_month": 0,
         "in_transit_qty": 0,
         "index": 3,
         "lead_time": 2,
         "local_bo_qty": 0,
         "min_bank": 1,
         "national_inv": 46,
         "oe_constraint": "No",
         "perf_12_month_avg": 0.9,
         "perf_6_month_avg": 0.75,
         "pieces_past_due": 0,
         "potential_issue": "No",
         "ppap_risk": "No",
         "rev_stop": "No",
         "sales_1_month": 1,
         "sales_3_month": 2,
         "sales_6_month": 6,
         "sales_9_month": 9,
         "sku": 1758220,
         "stop_auto_buy": "Yes",
         "went_on_backorder": "No"
        },
        {
         "deck_risk": "No",
         "forecast_3_month": 4,
         "forecast_6_month": 6,
         "forecast_9_month": 10,
         "in_transit_qty": 0,
         "index": 4,
         "lead_time": 2,
         "local_bo_qty": 0,
         "min_bank": 0,
         "national_inv": 2,
         "oe_constraint": "No",
         "perf_12_month_avg": 0.92,
         "perf_6_month_avg": 0.97,
         "pieces_past_due": 0,
         "potential_issue": "No",
         "ppap_risk": "No",
         "rev_stop": "No",
         "sales_1_month": 2,
         "sales_3_month": 2,
         "sales_6_month": 5,
         "sales_9_month": 6,
         "sku": 1360312,
         "stop_auto_buy": "Yes",
         "went_on_backorder": "No"
        }
       ],
       "schema": {
        "fields": [
         {
          "name": "index",
          "type": "integer"
         },
         {
          "name": "sku",
          "type": "integer"
         },
         {
          "name": "national_inv",
          "type": "integer"
         },
         {
          "name": "lead_time",
          "type": "number"
         },
         {
          "name": "in_transit_qty",
          "type": "integer"
         },
         {
          "name": "forecast_3_month",
          "type": "integer"
         },
         {
          "name": "forecast_6_month",
          "type": "integer"
         },
         {
          "name": "forecast_9_month",
          "type": "integer"
         },
         {
          "name": "sales_1_month",
          "type": "integer"
         },
         {
          "name": "sales_3_month",
          "type": "integer"
         },
         {
          "name": "sales_6_month",
          "type": "integer"
         },
         {
          "name": "sales_9_month",
          "type": "integer"
         },
         {
          "name": "min_bank",
          "type": "integer"
         },
         {
          "name": "potential_issue",
          "type": "string"
         },
         {
          "name": "pieces_past_due",
          "type": "integer"
         },
         {
          "name": "perf_6_month_avg",
          "type": "number"
         },
         {
          "name": "perf_12_month_avg",
          "type": "number"
         },
         {
          "name": "local_bo_qty",
          "type": "integer"
         },
         {
          "name": "deck_risk",
          "type": "string"
         },
         {
          "name": "oe_constraint",
          "type": "string"
         },
         {
          "name": "ppap_risk",
          "type": "string"
         },
         {
          "name": "stop_auto_buy",
          "type": "string"
         },
         {
          "name": "rev_stop",
          "type": "string"
         },
         {
          "name": "went_on_backorder",
          "type": "string"
         }
        ],
        "pandas_version": "0.20.0",
        "primaryKey": [
         "index"
        ]
       }
      },
      "text/html": [
       "<div>\n",
       "<style scoped>\n",
       "    .dataframe tbody tr th:only-of-type {\n",
       "        vertical-align: middle;\n",
       "    }\n",
       "\n",
       "    .dataframe tbody tr th {\n",
       "        vertical-align: top;\n",
       "    }\n",
       "\n",
       "    .dataframe thead th {\n",
       "        text-align: right;\n",
       "    }\n",
       "</style>\n",
       "<table border=\"1\" class=\"dataframe\">\n",
       "  <thead>\n",
       "    <tr style=\"text-align: right;\">\n",
       "      <th></th>\n",
       "      <th>sku</th>\n",
       "      <th>national_inv</th>\n",
       "      <th>lead_time</th>\n",
       "      <th>in_transit_qty</th>\n",
       "      <th>forecast_3_month</th>\n",
       "      <th>forecast_6_month</th>\n",
       "      <th>forecast_9_month</th>\n",
       "      <th>sales_1_month</th>\n",
       "      <th>sales_3_month</th>\n",
       "      <th>sales_6_month</th>\n",
       "      <th>...</th>\n",
       "      <th>pieces_past_due</th>\n",
       "      <th>perf_6_month_avg</th>\n",
       "      <th>perf_12_month_avg</th>\n",
       "      <th>local_bo_qty</th>\n",
       "      <th>deck_risk</th>\n",
       "      <th>oe_constraint</th>\n",
       "      <th>ppap_risk</th>\n",
       "      <th>stop_auto_buy</th>\n",
       "      <th>rev_stop</th>\n",
       "      <th>went_on_backorder</th>\n",
       "    </tr>\n",
       "  </thead>\n",
       "  <tbody>\n",
       "    <tr>\n",
       "      <th>0</th>\n",
       "      <td>1888279</td>\n",
       "      <td>117</td>\n",
       "      <td>NaN</td>\n",
       "      <td>0</td>\n",
       "      <td>0</td>\n",
       "      <td>0</td>\n",
       "      <td>0</td>\n",
       "      <td>0</td>\n",
       "      <td>0</td>\n",
       "      <td>15</td>\n",
       "      <td>...</td>\n",
       "      <td>0</td>\n",
       "      <td>-99.00</td>\n",
       "      <td>-99.00</td>\n",
       "      <td>0</td>\n",
       "      <td>No</td>\n",
       "      <td>No</td>\n",
       "      <td>Yes</td>\n",
       "      <td>Yes</td>\n",
       "      <td>No</td>\n",
       "      <td>No</td>\n",
       "    </tr>\n",
       "    <tr>\n",
       "      <th>1</th>\n",
       "      <td>1870557</td>\n",
       "      <td>7</td>\n",
       "      <td>2.0</td>\n",
       "      <td>0</td>\n",
       "      <td>0</td>\n",
       "      <td>0</td>\n",
       "      <td>0</td>\n",
       "      <td>0</td>\n",
       "      <td>0</td>\n",
       "      <td>0</td>\n",
       "      <td>...</td>\n",
       "      <td>0</td>\n",
       "      <td>0.50</td>\n",
       "      <td>0.28</td>\n",
       "      <td>0</td>\n",
       "      <td>Yes</td>\n",
       "      <td>No</td>\n",
       "      <td>No</td>\n",
       "      <td>Yes</td>\n",
       "      <td>No</td>\n",
       "      <td>No</td>\n",
       "    </tr>\n",
       "    <tr>\n",
       "      <th>2</th>\n",
       "      <td>1475481</td>\n",
       "      <td>258</td>\n",
       "      <td>15.0</td>\n",
       "      <td>10</td>\n",
       "      <td>10</td>\n",
       "      <td>77</td>\n",
       "      <td>184</td>\n",
       "      <td>46</td>\n",
       "      <td>132</td>\n",
       "      <td>256</td>\n",
       "      <td>...</td>\n",
       "      <td>0</td>\n",
       "      <td>0.54</td>\n",
       "      <td>0.70</td>\n",
       "      <td>0</td>\n",
       "      <td>No</td>\n",
       "      <td>No</td>\n",
       "      <td>No</td>\n",
       "      <td>Yes</td>\n",
       "      <td>No</td>\n",
       "      <td>No</td>\n",
       "    </tr>\n",
       "    <tr>\n",
       "      <th>3</th>\n",
       "      <td>1758220</td>\n",
       "      <td>46</td>\n",
       "      <td>2.0</td>\n",
       "      <td>0</td>\n",
       "      <td>0</td>\n",
       "      <td>0</td>\n",
       "      <td>0</td>\n",
       "      <td>1</td>\n",
       "      <td>2</td>\n",
       "      <td>6</td>\n",
       "      <td>...</td>\n",
       "      <td>0</td>\n",
       "      <td>0.75</td>\n",
       "      <td>0.90</td>\n",
       "      <td>0</td>\n",
       "      <td>Yes</td>\n",
       "      <td>No</td>\n",
       "      <td>No</td>\n",
       "      <td>Yes</td>\n",
       "      <td>No</td>\n",
       "      <td>No</td>\n",
       "    </tr>\n",
       "    <tr>\n",
       "      <th>4</th>\n",
       "      <td>1360312</td>\n",
       "      <td>2</td>\n",
       "      <td>2.0</td>\n",
       "      <td>0</td>\n",
       "      <td>4</td>\n",
       "      <td>6</td>\n",
       "      <td>10</td>\n",
       "      <td>2</td>\n",
       "      <td>2</td>\n",
       "      <td>5</td>\n",
       "      <td>...</td>\n",
       "      <td>0</td>\n",
       "      <td>0.97</td>\n",
       "      <td>0.92</td>\n",
       "      <td>0</td>\n",
       "      <td>No</td>\n",
       "      <td>No</td>\n",
       "      <td>No</td>\n",
       "      <td>Yes</td>\n",
       "      <td>No</td>\n",
       "      <td>No</td>\n",
       "    </tr>\n",
       "  </tbody>\n",
       "</table>\n",
       "<p>5 rows × 23 columns</p>\n",
       "</div>"
      ],
      "text/plain": [
       "       sku  national_inv  lead_time  in_transit_qty  forecast_3_month  \\\n",
       "0  1888279           117        NaN               0                 0   \n",
       "1  1870557             7        2.0               0                 0   \n",
       "2  1475481           258       15.0              10                10   \n",
       "3  1758220            46        2.0               0                 0   \n",
       "4  1360312             2        2.0               0                 4   \n",
       "\n",
       "   forecast_6_month  forecast_9_month  sales_1_month  sales_3_month  \\\n",
       "0                 0                 0              0              0   \n",
       "1                 0                 0              0              0   \n",
       "2                77               184             46            132   \n",
       "3                 0                 0              1              2   \n",
       "4                 6                10              2              2   \n",
       "\n",
       "   sales_6_month  ...  pieces_past_due  perf_6_month_avg perf_12_month_avg  \\\n",
       "0             15  ...                0            -99.00            -99.00   \n",
       "1              0  ...                0              0.50              0.28   \n",
       "2            256  ...                0              0.54              0.70   \n",
       "3              6  ...                0              0.75              0.90   \n",
       "4              5  ...                0              0.97              0.92   \n",
       "\n",
       "   local_bo_qty  deck_risk  oe_constraint  ppap_risk stop_auto_buy rev_stop  \\\n",
       "0             0         No             No        Yes           Yes       No   \n",
       "1             0        Yes             No         No           Yes       No   \n",
       "2             0         No             No         No           Yes       No   \n",
       "3             0        Yes             No         No           Yes       No   \n",
       "4             0         No             No         No           Yes       No   \n",
       "\n",
       "  went_on_backorder  \n",
       "0                No  \n",
       "1                No  \n",
       "2                No  \n",
       "3                No  \n",
       "4                No  \n",
       "\n",
       "[5 rows x 23 columns]"
      ]
     },
     "execution_count": 3,
     "metadata": {},
     "output_type": "execute_result"
    }
   ],
   "source": [
    "pd.options.display.html.table_schema = True\n",
    "pd.options.display.max_rows = None\n",
    "data.head()"
   ]
  },
  {
   "cell_type": "markdown",
   "metadata": {},
   "source": [
    "data-types"
   ]
  },
  {
   "cell_type": "code",
   "execution_count": 4,
   "metadata": {
    "pycharm": {
     "is_executing": false
    }
   },
   "outputs": [
    {
     "data": {
      "application/vnd.dataresource+json": {
       "data": [
        {
         "index": "sku",
         "values": {
          "alignment": 8,
          "byteorder": "=",
          "descr": [
           [
            "",
            "<i8"
           ]
          ],
          "flags": 0,
          "isalignedstruct": false,
          "isnative": true,
          "kind": "i",
          "name": "int64",
          "ndim": 0,
          "num": 7,
          "str": "<i8"
         }
        },
        {
         "index": "national_inv",
         "values": {
          "alignment": 8,
          "byteorder": "=",
          "descr": [
           [
            "",
            "<i8"
           ]
          ],
          "flags": 0,
          "isalignedstruct": false,
          "isnative": true,
          "kind": "i",
          "name": "int64",
          "ndim": 0,
          "num": 7,
          "str": "<i8"
         }
        },
        {
         "index": "lead_time",
         "values": {
          "alignment": 8,
          "byteorder": "=",
          "descr": [
           [
            "",
            "<f8"
           ]
          ],
          "flags": 0,
          "isalignedstruct": false,
          "isnative": true,
          "kind": "f",
          "name": "float64",
          "ndim": 0,
          "num": 12,
          "str": "<f8"
         }
        },
        {
         "index": "in_transit_qty",
         "values": {
          "alignment": 8,
          "byteorder": "=",
          "descr": [
           [
            "",
            "<i8"
           ]
          ],
          "flags": 0,
          "isalignedstruct": false,
          "isnative": true,
          "kind": "i",
          "name": "int64",
          "ndim": 0,
          "num": 7,
          "str": "<i8"
         }
        },
        {
         "index": "forecast_3_month",
         "values": {
          "alignment": 8,
          "byteorder": "=",
          "descr": [
           [
            "",
            "<i8"
           ]
          ],
          "flags": 0,
          "isalignedstruct": false,
          "isnative": true,
          "kind": "i",
          "name": "int64",
          "ndim": 0,
          "num": 7,
          "str": "<i8"
         }
        },
        {
         "index": "forecast_6_month",
         "values": {
          "alignment": 8,
          "byteorder": "=",
          "descr": [
           [
            "",
            "<i8"
           ]
          ],
          "flags": 0,
          "isalignedstruct": false,
          "isnative": true,
          "kind": "i",
          "name": "int64",
          "ndim": 0,
          "num": 7,
          "str": "<i8"
         }
        },
        {
         "index": "forecast_9_month",
         "values": {
          "alignment": 8,
          "byteorder": "=",
          "descr": [
           [
            "",
            "<i8"
           ]
          ],
          "flags": 0,
          "isalignedstruct": false,
          "isnative": true,
          "kind": "i",
          "name": "int64",
          "ndim": 0,
          "num": 7,
          "str": "<i8"
         }
        },
        {
         "index": "sales_1_month",
         "values": {
          "alignment": 8,
          "byteorder": "=",
          "descr": [
           [
            "",
            "<i8"
           ]
          ],
          "flags": 0,
          "isalignedstruct": false,
          "isnative": true,
          "kind": "i",
          "name": "int64",
          "ndim": 0,
          "num": 7,
          "str": "<i8"
         }
        },
        {
         "index": "sales_3_month",
         "values": {
          "alignment": 8,
          "byteorder": "=",
          "descr": [
           [
            "",
            "<i8"
           ]
          ],
          "flags": 0,
          "isalignedstruct": false,
          "isnative": true,
          "kind": "i",
          "name": "int64",
          "ndim": 0,
          "num": 7,
          "str": "<i8"
         }
        },
        {
         "index": "sales_6_month",
         "values": {
          "alignment": 8,
          "byteorder": "=",
          "descr": [
           [
            "",
            "<i8"
           ]
          ],
          "flags": 0,
          "isalignedstruct": false,
          "isnative": true,
          "kind": "i",
          "name": "int64",
          "ndim": 0,
          "num": 7,
          "str": "<i8"
         }
        },
        {
         "index": "sales_9_month",
         "values": {
          "alignment": 8,
          "byteorder": "=",
          "descr": [
           [
            "",
            "<i8"
           ]
          ],
          "flags": 0,
          "isalignedstruct": false,
          "isnative": true,
          "kind": "i",
          "name": "int64",
          "ndim": 0,
          "num": 7,
          "str": "<i8"
         }
        },
        {
         "index": "min_bank",
         "values": {
          "alignment": 8,
          "byteorder": "=",
          "descr": [
           [
            "",
            "<i8"
           ]
          ],
          "flags": 0,
          "isalignedstruct": false,
          "isnative": true,
          "kind": "i",
          "name": "int64",
          "ndim": 0,
          "num": 7,
          "str": "<i8"
         }
        },
        {
         "index": "potential_issue",
         "values": {
          "alignment": 8,
          "byteorder": "|",
          "descr": [
           [
            "",
            "|O"
           ]
          ],
          "flags": 63,
          "isalignedstruct": false,
          "isnative": true,
          "kind": "O",
          "name": "object",
          "ndim": 0,
          "num": 17,
          "str": "|O"
         }
        },
        {
         "index": "pieces_past_due",
         "values": {
          "alignment": 8,
          "byteorder": "=",
          "descr": [
           [
            "",
            "<i8"
           ]
          ],
          "flags": 0,
          "isalignedstruct": false,
          "isnative": true,
          "kind": "i",
          "name": "int64",
          "ndim": 0,
          "num": 7,
          "str": "<i8"
         }
        },
        {
         "index": "perf_6_month_avg",
         "values": {
          "alignment": 8,
          "byteorder": "=",
          "descr": [
           [
            "",
            "<f8"
           ]
          ],
          "flags": 0,
          "isalignedstruct": false,
          "isnative": true,
          "kind": "f",
          "name": "float64",
          "ndim": 0,
          "num": 12,
          "str": "<f8"
         }
        },
        {
         "index": "perf_12_month_avg",
         "values": {
          "alignment": 8,
          "byteorder": "=",
          "descr": [
           [
            "",
            "<f8"
           ]
          ],
          "flags": 0,
          "isalignedstruct": false,
          "isnative": true,
          "kind": "f",
          "name": "float64",
          "ndim": 0,
          "num": 12,
          "str": "<f8"
         }
        },
        {
         "index": "local_bo_qty",
         "values": {
          "alignment": 8,
          "byteorder": "=",
          "descr": [
           [
            "",
            "<i8"
           ]
          ],
          "flags": 0,
          "isalignedstruct": false,
          "isnative": true,
          "kind": "i",
          "name": "int64",
          "ndim": 0,
          "num": 7,
          "str": "<i8"
         }
        },
        {
         "index": "deck_risk",
         "values": {
          "alignment": 8,
          "byteorder": "|",
          "descr": [
           [
            "",
            "|O"
           ]
          ],
          "flags": 63,
          "isalignedstruct": false,
          "isnative": true,
          "kind": "O",
          "name": "object",
          "ndim": 0,
          "num": 17,
          "str": "|O"
         }
        },
        {
         "index": "oe_constraint",
         "values": {
          "alignment": 8,
          "byteorder": "|",
          "descr": [
           [
            "",
            "|O"
           ]
          ],
          "flags": 63,
          "isalignedstruct": false,
          "isnative": true,
          "kind": "O",
          "name": "object",
          "ndim": 0,
          "num": 17,
          "str": "|O"
         }
        },
        {
         "index": "ppap_risk",
         "values": {
          "alignment": 8,
          "byteorder": "|",
          "descr": [
           [
            "",
            "|O"
           ]
          ],
          "flags": 63,
          "isalignedstruct": false,
          "isnative": true,
          "kind": "O",
          "name": "object",
          "ndim": 0,
          "num": 17,
          "str": "|O"
         }
        },
        {
         "index": "stop_auto_buy",
         "values": {
          "alignment": 8,
          "byteorder": "|",
          "descr": [
           [
            "",
            "|O"
           ]
          ],
          "flags": 63,
          "isalignedstruct": false,
          "isnative": true,
          "kind": "O",
          "name": "object",
          "ndim": 0,
          "num": 17,
          "str": "|O"
         }
        },
        {
         "index": "rev_stop",
         "values": {
          "alignment": 8,
          "byteorder": "|",
          "descr": [
           [
            "",
            "|O"
           ]
          ],
          "flags": 63,
          "isalignedstruct": false,
          "isnative": true,
          "kind": "O",
          "name": "object",
          "ndim": 0,
          "num": 17,
          "str": "|O"
         }
        },
        {
         "index": "went_on_backorder",
         "values": {
          "alignment": 8,
          "byteorder": "|",
          "descr": [
           [
            "",
            "|O"
           ]
          ],
          "flags": 63,
          "isalignedstruct": false,
          "isnative": true,
          "kind": "O",
          "name": "object",
          "ndim": 0,
          "num": 17,
          "str": "|O"
         }
        }
       ],
       "schema": {
        "fields": [
         {
          "name": "index",
          "type": "string"
         },
         {
          "name": "values",
          "type": "string"
         }
        ],
        "pandas_version": "0.20.0",
        "primaryKey": [
         "index"
        ]
       }
      },
      "text/plain": [
       "sku                    int64\n",
       "national_inv           int64\n",
       "lead_time            float64\n",
       "in_transit_qty         int64\n",
       "forecast_3_month       int64\n",
       "forecast_6_month       int64\n",
       "forecast_9_month       int64\n",
       "sales_1_month          int64\n",
       "sales_3_month          int64\n",
       "sales_6_month          int64\n",
       "sales_9_month          int64\n",
       "min_bank               int64\n",
       "potential_issue       object\n",
       "pieces_past_due        int64\n",
       "perf_6_month_avg     float64\n",
       "perf_12_month_avg    float64\n",
       "local_bo_qty           int64\n",
       "deck_risk             object\n",
       "oe_constraint         object\n",
       "ppap_risk             object\n",
       "stop_auto_buy         object\n",
       "rev_stop              object\n",
       "went_on_backorder     object\n",
       "dtype: object"
      ]
     },
     "execution_count": 4,
     "metadata": {},
     "output_type": "execute_result"
    }
   ],
   "source": [
    "data.dtypes"
   ]
  },
  {
   "cell_type": "markdown",
   "metadata": {},
   "source": [
    "drop na values"
   ]
  },
  {
   "cell_type": "code",
   "execution_count": 5,
   "metadata": {
    "pycharm": {
     "is_executing": false
    }
   },
   "outputs": [
    {
     "name": "stdout",
     "output_type": "stream",
     "text": [
      "3403\n"
     ]
    }
   ],
   "source": [
    "data.shape\n",
    "data.dropna(axis=0, inplace=True)\n",
    "data.shape\n",
    "print(61589-58186)"
   ]
  },
  {
   "cell_type": "markdown",
   "metadata": {},
   "source": [
    "drop columns"
   ]
  },
  {
   "cell_type": "code",
   "execution_count": 6,
   "metadata": {
    "pycharm": {
     "is_executing": false
    }
   },
   "outputs": [],
   "source": [
    "data.drop('sku', axis=1, inplace=True)"
   ]
  },
  {
   "cell_type": "markdown",
   "metadata": {},
   "source": [
    "summary statistics of numerical features"
   ]
  },
  {
   "cell_type": "code",
   "execution_count": 7,
   "metadata": {
    "pycharm": {
     "is_executing": false
    }
   },
   "outputs": [
    {
     "data": {
      "application/vnd.dataresource+json": {
       "data": [
        {
         "forecast_3_month": 58186,
         "forecast_6_month": 58186,
         "forecast_9_month": 58186,
         "in_transit_qty": 58186,
         "index": "count",
         "lead_time": 58186,
         "local_bo_qty": 58186,
         "min_bank": 58186,
         "national_inv": 58186,
         "perf_12_month_avg": 58186,
         "perf_6_month_avg": 58186,
         "pieces_past_due": 58186,
         "sales_1_month": 58186,
         "sales_3_month": 58186,
         "sales_6_month": 58186,
         "sales_9_month": 58186
        },
        {
         "forecast_3_month": 178.0929089472,
         "forecast_6_month": 331.3013955247,
         "forecast_9_month": 477.1001959234,
         "in_transit_qty": 31.3381225724,
         "index": "mean",
         "lead_time": 7.5596191524,
         "local_bo_qty": 1.2599766267,
         "min_bank": 43.4244148077,
         "national_inv": 281.2459870072,
         "perf_12_month_avg": -0.4165986663,
         "perf_6_month_avg": -0.8405410236,
         "pieces_past_due": 1.696765545,
         "sales_1_month": 45.347575018,
         "sales_3_month": 153.1806104561,
         "sales_6_month": 288.8281373526,
         "sales_9_month": 428.9080534837
        },
        {
         "forecast_3_month": 5438.4870294668,
         "forecast_6_month": 10054.5557142268,
         "forecast_9_month": 14609.0230917875,
         "in_transit_qty": 814.6657673862,
         "index": "std",
         "lead_time": 6.4989521054,
         "local_bo_qty": 30.8196405243,
         "min_bank": 979.2916913556,
         "national_inv": 4321.3298010805,
         "perf_12_month_avg": 10.7866038629,
         "perf_6_month_avg": 12.5673149948,
         "pieces_past_due": 43.5250341047,
         "sales_1_month": 1408.0746297967,
         "sales_3_month": 5360.1765859229,
         "sales_6_month": 9101.4743660845,
         "sales_9_month": 13041.8333923378
        },
        {
         "forecast_3_month": 0,
         "forecast_6_month": 0,
         "forecast_9_month": 0,
         "in_transit_qty": 0,
         "index": "min",
         "lead_time": 0,
         "local_bo_qty": 0,
         "min_bank": 0,
         "national_inv": -2999,
         "perf_12_month_avg": -99,
         "perf_6_month_avg": -99,
         "pieces_past_due": 0,
         "sales_1_month": 0,
         "sales_3_month": 0,
         "sales_6_month": 0,
         "sales_9_month": 0
        },
        {
         "forecast_3_month": 0,
         "forecast_6_month": 0,
         "forecast_9_month": 0,
         "in_transit_qty": 0,
         "index": "25%",
         "lead_time": 4,
         "local_bo_qty": 0,
         "min_bank": 0,
         "national_inv": 3,
         "perf_12_month_avg": 0.67,
         "perf_6_month_avg": 0.68,
         "pieces_past_due": 0,
         "sales_1_month": 0,
         "sales_3_month": 0,
         "sales_6_month": 0,
         "sales_9_month": 0
        },
        {
         "forecast_3_month": 0,
         "forecast_6_month": 0,
         "forecast_9_month": 1,
         "in_transit_qty": 0,
         "index": "50%",
         "lead_time": 8,
         "local_bo_qty": 0,
         "min_bank": 0,
         "national_inv": 10,
         "perf_12_month_avg": 0.82,
         "perf_6_month_avg": 0.83,
         "pieces_past_due": 0,
         "sales_1_month": 0,
         "sales_3_month": 2,
         "sales_6_month": 4,
         "sales_9_month": 6
        },
        {
         "forecast_3_month": 14,
         "forecast_6_month": 28,
         "forecast_9_month": 42,
         "in_transit_qty": 0,
         "index": "75%",
         "lead_time": 8,
         "local_bo_qty": 0,
         "min_bank": 4,
         "national_inv": 55,
         "perf_12_month_avg": 0.95,
         "perf_6_month_avg": 0.97,
         "pieces_past_due": 0,
         "sales_1_month": 6,
         "sales_3_month": 18,
         "sales_6_month": 36,
         "sales_9_month": 54
        },
        {
         "forecast_3_month": 1126656,
         "forecast_6_month": 2094336,
         "forecast_9_month": 3062016,
         "in_transit_qty": 170976,
         "index": "max",
         "lead_time": 52,
         "local_bo_qty": 2999,
         "min_bank": 192978,
         "national_inv": 673445,
         "perf_12_month_avg": 1,
         "perf_6_month_avg": 1,
         "pieces_past_due": 7392,
         "sales_1_month": 295197,
         "sales_3_month": 934593,
         "sales_6_month": 1799099,
         "sales_9_month": 2631590
        }
       ],
       "schema": {
        "fields": [
         {
          "name": "index",
          "type": "string"
         },
         {
          "name": "national_inv",
          "type": "number"
         },
         {
          "name": "lead_time",
          "type": "number"
         },
         {
          "name": "in_transit_qty",
          "type": "number"
         },
         {
          "name": "forecast_3_month",
          "type": "number"
         },
         {
          "name": "forecast_6_month",
          "type": "number"
         },
         {
          "name": "forecast_9_month",
          "type": "number"
         },
         {
          "name": "sales_1_month",
          "type": "number"
         },
         {
          "name": "sales_3_month",
          "type": "number"
         },
         {
          "name": "sales_6_month",
          "type": "number"
         },
         {
          "name": "sales_9_month",
          "type": "number"
         },
         {
          "name": "min_bank",
          "type": "number"
         },
         {
          "name": "pieces_past_due",
          "type": "number"
         },
         {
          "name": "perf_6_month_avg",
          "type": "number"
         },
         {
          "name": "perf_12_month_avg",
          "type": "number"
         },
         {
          "name": "local_bo_qty",
          "type": "number"
         }
        ],
        "pandas_version": "0.20.0",
        "primaryKey": [
         "index"
        ]
       }
      },
      "text/html": [
       "<div>\n",
       "<style scoped>\n",
       "    .dataframe tbody tr th:only-of-type {\n",
       "        vertical-align: middle;\n",
       "    }\n",
       "\n",
       "    .dataframe tbody tr th {\n",
       "        vertical-align: top;\n",
       "    }\n",
       "\n",
       "    .dataframe thead th {\n",
       "        text-align: right;\n",
       "    }\n",
       "</style>\n",
       "<table border=\"1\" class=\"dataframe\">\n",
       "  <thead>\n",
       "    <tr style=\"text-align: right;\">\n",
       "      <th></th>\n",
       "      <th>national_inv</th>\n",
       "      <th>lead_time</th>\n",
       "      <th>in_transit_qty</th>\n",
       "      <th>forecast_3_month</th>\n",
       "      <th>forecast_6_month</th>\n",
       "      <th>forecast_9_month</th>\n",
       "      <th>sales_1_month</th>\n",
       "      <th>sales_3_month</th>\n",
       "      <th>sales_6_month</th>\n",
       "      <th>sales_9_month</th>\n",
       "      <th>min_bank</th>\n",
       "      <th>pieces_past_due</th>\n",
       "      <th>perf_6_month_avg</th>\n",
       "      <th>perf_12_month_avg</th>\n",
       "      <th>local_bo_qty</th>\n",
       "    </tr>\n",
       "  </thead>\n",
       "  <tbody>\n",
       "    <tr>\n",
       "      <th>count</th>\n",
       "      <td>58186.000000</td>\n",
       "      <td>58186.000000</td>\n",
       "      <td>58186.000000</td>\n",
       "      <td>5.818600e+04</td>\n",
       "      <td>5.818600e+04</td>\n",
       "      <td>5.818600e+04</td>\n",
       "      <td>58186.000000</td>\n",
       "      <td>58186.000000</td>\n",
       "      <td>5.818600e+04</td>\n",
       "      <td>5.818600e+04</td>\n",
       "      <td>58186.000000</td>\n",
       "      <td>58186.000000</td>\n",
       "      <td>58186.000000</td>\n",
       "      <td>58186.000000</td>\n",
       "      <td>58186.000000</td>\n",
       "    </tr>\n",
       "    <tr>\n",
       "      <th>mean</th>\n",
       "      <td>281.245987</td>\n",
       "      <td>7.559619</td>\n",
       "      <td>31.338123</td>\n",
       "      <td>1.780929e+02</td>\n",
       "      <td>3.313014e+02</td>\n",
       "      <td>4.771002e+02</td>\n",
       "      <td>45.347575</td>\n",
       "      <td>153.180610</td>\n",
       "      <td>2.888281e+02</td>\n",
       "      <td>4.289081e+02</td>\n",
       "      <td>43.424415</td>\n",
       "      <td>1.696766</td>\n",
       "      <td>-0.840541</td>\n",
       "      <td>-0.416599</td>\n",
       "      <td>1.259977</td>\n",
       "    </tr>\n",
       "    <tr>\n",
       "      <th>std</th>\n",
       "      <td>4321.329801</td>\n",
       "      <td>6.498952</td>\n",
       "      <td>814.665767</td>\n",
       "      <td>5.438487e+03</td>\n",
       "      <td>1.005456e+04</td>\n",
       "      <td>1.460902e+04</td>\n",
       "      <td>1408.074630</td>\n",
       "      <td>5360.176586</td>\n",
       "      <td>9.101474e+03</td>\n",
       "      <td>1.304183e+04</td>\n",
       "      <td>979.291691</td>\n",
       "      <td>43.525034</td>\n",
       "      <td>12.567315</td>\n",
       "      <td>10.786604</td>\n",
       "      <td>30.819641</td>\n",
       "    </tr>\n",
       "    <tr>\n",
       "      <th>min</th>\n",
       "      <td>-2999.000000</td>\n",
       "      <td>0.000000</td>\n",
       "      <td>0.000000</td>\n",
       "      <td>0.000000e+00</td>\n",
       "      <td>0.000000e+00</td>\n",
       "      <td>0.000000e+00</td>\n",
       "      <td>0.000000</td>\n",
       "      <td>0.000000</td>\n",
       "      <td>0.000000e+00</td>\n",
       "      <td>0.000000e+00</td>\n",
       "      <td>0.000000</td>\n",
       "      <td>0.000000</td>\n",
       "      <td>-99.000000</td>\n",
       "      <td>-99.000000</td>\n",
       "      <td>0.000000</td>\n",
       "    </tr>\n",
       "    <tr>\n",
       "      <th>25%</th>\n",
       "      <td>3.000000</td>\n",
       "      <td>4.000000</td>\n",
       "      <td>0.000000</td>\n",
       "      <td>0.000000e+00</td>\n",
       "      <td>0.000000e+00</td>\n",
       "      <td>0.000000e+00</td>\n",
       "      <td>0.000000</td>\n",
       "      <td>0.000000</td>\n",
       "      <td>0.000000e+00</td>\n",
       "      <td>0.000000e+00</td>\n",
       "      <td>0.000000</td>\n",
       "      <td>0.000000</td>\n",
       "      <td>0.680000</td>\n",
       "      <td>0.670000</td>\n",
       "      <td>0.000000</td>\n",
       "    </tr>\n",
       "    <tr>\n",
       "      <th>50%</th>\n",
       "      <td>10.000000</td>\n",
       "      <td>8.000000</td>\n",
       "      <td>0.000000</td>\n",
       "      <td>0.000000e+00</td>\n",
       "      <td>0.000000e+00</td>\n",
       "      <td>1.000000e+00</td>\n",
       "      <td>0.000000</td>\n",
       "      <td>2.000000</td>\n",
       "      <td>4.000000e+00</td>\n",
       "      <td>6.000000e+00</td>\n",
       "      <td>0.000000</td>\n",
       "      <td>0.000000</td>\n",
       "      <td>0.830000</td>\n",
       "      <td>0.820000</td>\n",
       "      <td>0.000000</td>\n",
       "    </tr>\n",
       "    <tr>\n",
       "      <th>75%</th>\n",
       "      <td>55.000000</td>\n",
       "      <td>8.000000</td>\n",
       "      <td>0.000000</td>\n",
       "      <td>1.400000e+01</td>\n",
       "      <td>2.800000e+01</td>\n",
       "      <td>4.200000e+01</td>\n",
       "      <td>6.000000</td>\n",
       "      <td>18.000000</td>\n",
       "      <td>3.600000e+01</td>\n",
       "      <td>5.400000e+01</td>\n",
       "      <td>4.000000</td>\n",
       "      <td>0.000000</td>\n",
       "      <td>0.970000</td>\n",
       "      <td>0.950000</td>\n",
       "      <td>0.000000</td>\n",
       "    </tr>\n",
       "    <tr>\n",
       "      <th>max</th>\n",
       "      <td>673445.000000</td>\n",
       "      <td>52.000000</td>\n",
       "      <td>170976.000000</td>\n",
       "      <td>1.126656e+06</td>\n",
       "      <td>2.094336e+06</td>\n",
       "      <td>3.062016e+06</td>\n",
       "      <td>295197.000000</td>\n",
       "      <td>934593.000000</td>\n",
       "      <td>1.799099e+06</td>\n",
       "      <td>2.631590e+06</td>\n",
       "      <td>192978.000000</td>\n",
       "      <td>7392.000000</td>\n",
       "      <td>1.000000</td>\n",
       "      <td>1.000000</td>\n",
       "      <td>2999.000000</td>\n",
       "    </tr>\n",
       "  </tbody>\n",
       "</table>\n",
       "</div>"
      ],
      "text/plain": [
       "        national_inv     lead_time  in_transit_qty  forecast_3_month  \\\n",
       "count   58186.000000  58186.000000    58186.000000      5.818600e+04   \n",
       "mean      281.245987      7.559619       31.338123      1.780929e+02   \n",
       "std      4321.329801      6.498952      814.665767      5.438487e+03   \n",
       "min     -2999.000000      0.000000        0.000000      0.000000e+00   \n",
       "25%         3.000000      4.000000        0.000000      0.000000e+00   \n",
       "50%        10.000000      8.000000        0.000000      0.000000e+00   \n",
       "75%        55.000000      8.000000        0.000000      1.400000e+01   \n",
       "max    673445.000000     52.000000   170976.000000      1.126656e+06   \n",
       "\n",
       "       forecast_6_month  forecast_9_month  sales_1_month  sales_3_month  \\\n",
       "count      5.818600e+04      5.818600e+04   58186.000000   58186.000000   \n",
       "mean       3.313014e+02      4.771002e+02      45.347575     153.180610   \n",
       "std        1.005456e+04      1.460902e+04    1408.074630    5360.176586   \n",
       "min        0.000000e+00      0.000000e+00       0.000000       0.000000   \n",
       "25%        0.000000e+00      0.000000e+00       0.000000       0.000000   \n",
       "50%        0.000000e+00      1.000000e+00       0.000000       2.000000   \n",
       "75%        2.800000e+01      4.200000e+01       6.000000      18.000000   \n",
       "max        2.094336e+06      3.062016e+06  295197.000000  934593.000000   \n",
       "\n",
       "       sales_6_month  sales_9_month       min_bank  pieces_past_due  \\\n",
       "count   5.818600e+04   5.818600e+04   58186.000000     58186.000000   \n",
       "mean    2.888281e+02   4.289081e+02      43.424415         1.696766   \n",
       "std     9.101474e+03   1.304183e+04     979.291691        43.525034   \n",
       "min     0.000000e+00   0.000000e+00       0.000000         0.000000   \n",
       "25%     0.000000e+00   0.000000e+00       0.000000         0.000000   \n",
       "50%     4.000000e+00   6.000000e+00       0.000000         0.000000   \n",
       "75%     3.600000e+01   5.400000e+01       4.000000         0.000000   \n",
       "max     1.799099e+06   2.631590e+06  192978.000000      7392.000000   \n",
       "\n",
       "       perf_6_month_avg  perf_12_month_avg  local_bo_qty  \n",
       "count      58186.000000       58186.000000  58186.000000  \n",
       "mean          -0.840541          -0.416599      1.259977  \n",
       "std           12.567315          10.786604     30.819641  \n",
       "min          -99.000000         -99.000000      0.000000  \n",
       "25%            0.680000           0.670000      0.000000  \n",
       "50%            0.830000           0.820000      0.000000  \n",
       "75%            0.970000           0.950000      0.000000  \n",
       "max            1.000000           1.000000   2999.000000  "
      ]
     },
     "execution_count": 7,
     "metadata": {},
     "output_type": "execute_result"
    }
   ],
   "source": [
    "data.describe() # data.describe(include='all') gives info about num + cat"
   ]
  },
  {
   "cell_type": "markdown",
   "metadata": {},
   "source": [
    "summary statistics of object type features"
   ]
  },
  {
   "cell_type": "code",
   "execution_count": 8,
   "metadata": {
    "pycharm": {
     "is_executing": false
    }
   },
   "outputs": [
    {
     "data": {
      "application/vnd.dataresource+json": {
       "data": [
        {
         "deck_risk": 58186,
         "index": "count",
         "oe_constraint": 58186,
         "potential_issue": 58186,
         "ppap_risk": 58186,
         "rev_stop": 58186,
         "stop_auto_buy": 58186,
         "went_on_backorder": 58186
        },
        {
         "deck_risk": 2,
         "index": "unique",
         "oe_constraint": 2,
         "potential_issue": 2,
         "ppap_risk": 2,
         "rev_stop": 2,
         "stop_auto_buy": 2,
         "went_on_backorder": 2
        },
        {
         "deck_risk": "No",
         "index": "top",
         "oe_constraint": "No",
         "potential_issue": "No",
         "ppap_risk": "No",
         "rev_stop": "No",
         "stop_auto_buy": "Yes",
         "went_on_backorder": "No"
        },
        {
         "deck_risk": 46791,
         "index": "freq",
         "oe_constraint": 58174,
         "potential_issue": 58107,
         "ppap_risk": 50916,
         "rev_stop": 58173,
         "stop_auto_buy": 56736,
         "went_on_backorder": 47217
        }
       ],
       "schema": {
        "fields": [
         {
          "name": "index",
          "type": "string"
         },
         {
          "name": "potential_issue",
          "type": "string"
         },
         {
          "name": "deck_risk",
          "type": "string"
         },
         {
          "name": "oe_constraint",
          "type": "string"
         },
         {
          "name": "ppap_risk",
          "type": "string"
         },
         {
          "name": "stop_auto_buy",
          "type": "string"
         },
         {
          "name": "rev_stop",
          "type": "string"
         },
         {
          "name": "went_on_backorder",
          "type": "string"
         }
        ],
        "pandas_version": "0.20.0",
        "primaryKey": [
         "index"
        ]
       }
      },
      "text/html": [
       "<div>\n",
       "<style scoped>\n",
       "    .dataframe tbody tr th:only-of-type {\n",
       "        vertical-align: middle;\n",
       "    }\n",
       "\n",
       "    .dataframe tbody tr th {\n",
       "        vertical-align: top;\n",
       "    }\n",
       "\n",
       "    .dataframe thead th {\n",
       "        text-align: right;\n",
       "    }\n",
       "</style>\n",
       "<table border=\"1\" class=\"dataframe\">\n",
       "  <thead>\n",
       "    <tr style=\"text-align: right;\">\n",
       "      <th></th>\n",
       "      <th>potential_issue</th>\n",
       "      <th>deck_risk</th>\n",
       "      <th>oe_constraint</th>\n",
       "      <th>ppap_risk</th>\n",
       "      <th>stop_auto_buy</th>\n",
       "      <th>rev_stop</th>\n",
       "      <th>went_on_backorder</th>\n",
       "    </tr>\n",
       "  </thead>\n",
       "  <tbody>\n",
       "    <tr>\n",
       "      <th>count</th>\n",
       "      <td>58186</td>\n",
       "      <td>58186</td>\n",
       "      <td>58186</td>\n",
       "      <td>58186</td>\n",
       "      <td>58186</td>\n",
       "      <td>58186</td>\n",
       "      <td>58186</td>\n",
       "    </tr>\n",
       "    <tr>\n",
       "      <th>unique</th>\n",
       "      <td>2</td>\n",
       "      <td>2</td>\n",
       "      <td>2</td>\n",
       "      <td>2</td>\n",
       "      <td>2</td>\n",
       "      <td>2</td>\n",
       "      <td>2</td>\n",
       "    </tr>\n",
       "    <tr>\n",
       "      <th>top</th>\n",
       "      <td>No</td>\n",
       "      <td>No</td>\n",
       "      <td>No</td>\n",
       "      <td>No</td>\n",
       "      <td>Yes</td>\n",
       "      <td>No</td>\n",
       "      <td>No</td>\n",
       "    </tr>\n",
       "    <tr>\n",
       "      <th>freq</th>\n",
       "      <td>58107</td>\n",
       "      <td>46791</td>\n",
       "      <td>58174</td>\n",
       "      <td>50916</td>\n",
       "      <td>56736</td>\n",
       "      <td>58173</td>\n",
       "      <td>47217</td>\n",
       "    </tr>\n",
       "  </tbody>\n",
       "</table>\n",
       "</div>"
      ],
      "text/plain": [
       "       potential_issue deck_risk oe_constraint ppap_risk stop_auto_buy  \\\n",
       "count            58186     58186         58186     58186         58186   \n",
       "unique               2         2             2         2             2   \n",
       "top                 No        No            No        No           Yes   \n",
       "freq             58107     46791         58174     50916         56736   \n",
       "\n",
       "       rev_stop went_on_backorder  \n",
       "count     58186             58186  \n",
       "unique        2                 2  \n",
       "top          No                No  \n",
       "freq      58173             47217  "
      ]
     },
     "execution_count": 8,
     "metadata": {},
     "output_type": "execute_result"
    }
   ],
   "source": [
    "data.describe(include='object')"
   ]
  },
  {
   "cell_type": "markdown",
   "metadata": {},
   "source": [
    "get count of unique items in a column"
   ]
  },
  {
   "cell_type": "code",
   "execution_count": 9,
   "metadata": {
    "pycharm": {
     "is_executing": false
    }
   },
   "outputs": [
    {
     "data": {
      "application/vnd.dataresource+json": {
       "data": [
        {
         "index": "national_inv",
         "values": 2756
        },
        {
         "index": "lead_time",
         "values": 28
        },
        {
         "index": "in_transit_qty",
         "values": 894
        },
        {
         "index": "forecast_3_month",
         "values": 1614
        },
        {
         "index": "forecast_6_month",
         "values": 2185
        },
        {
         "index": "forecast_9_month",
         "values": 2654
        },
        {
         "index": "sales_1_month",
         "values": 1066
        },
        {
         "index": "sales_3_month",
         "values": 1887
        },
        {
         "index": "sales_6_month",
         "values": 2627
        },
        {
         "index": "sales_9_month",
         "values": 3157
        },
        {
         "index": "min_bank",
         "values": 1068
        },
        {
         "index": "potential_issue",
         "values": 2
        },
        {
         "index": "pieces_past_due",
         "values": 190
        },
        {
         "index": "perf_6_month_avg",
         "values": 102
        },
        {
         "index": "perf_12_month_avg",
         "values": 102
        },
        {
         "index": "local_bo_qty",
         "values": 200
        },
        {
         "index": "deck_risk",
         "values": 2
        },
        {
         "index": "oe_constraint",
         "values": 2
        },
        {
         "index": "ppap_risk",
         "values": 2
        },
        {
         "index": "stop_auto_buy",
         "values": 2
        },
        {
         "index": "rev_stop",
         "values": 2
        },
        {
         "index": "went_on_backorder",
         "values": 2
        }
       ],
       "schema": {
        "fields": [
         {
          "name": "index",
          "type": "string"
         },
         {
          "name": "values",
          "type": "integer"
         }
        ],
        "pandas_version": "0.20.0",
        "primaryKey": [
         "index"
        ]
       }
      },
      "text/plain": [
       "national_inv         2756\n",
       "lead_time              28\n",
       "in_transit_qty        894\n",
       "forecast_3_month     1614\n",
       "forecast_6_month     2185\n",
       "forecast_9_month     2654\n",
       "sales_1_month        1066\n",
       "sales_3_month        1887\n",
       "sales_6_month        2627\n",
       "sales_9_month        3157\n",
       "min_bank             1068\n",
       "potential_issue         2\n",
       "pieces_past_due       190\n",
       "perf_6_month_avg      102\n",
       "perf_12_month_avg     102\n",
       "local_bo_qty          200\n",
       "deck_risk               2\n",
       "oe_constraint           2\n",
       "ppap_risk               2\n",
       "stop_auto_buy           2\n",
       "rev_stop                2\n",
       "went_on_backorder       2\n",
       "dtype: int64"
      ]
     },
     "execution_count": 9,
     "metadata": {},
     "output_type": "execute_result"
    }
   ],
   "source": [
    "data.nunique()"
   ]
  },
  {
   "cell_type": "markdown",
   "metadata": {},
   "source": [
    "get a list of columns that are of dtype 'object'"
   ]
  },
  {
   "cell_type": "code",
   "execution_count": 10,
   "metadata": {
    "pycharm": {
     "is_executing": false
    }
   },
   "outputs": [
    {
     "data": {
      "text/plain": [
       "['potential_issue',\n",
       " 'deck_risk',\n",
       " 'oe_constraint',\n",
       " 'ppap_risk',\n",
       " 'stop_auto_buy',\n",
       " 'rev_stop',\n",
       " 'went_on_backorder']"
      ]
     },
     "execution_count": 10,
     "metadata": {},
     "output_type": "execute_result"
    }
   ],
   "source": [
    "object_attr = list(data.select_dtypes('object').columns)\n",
    "object_attr"
   ]
  },
  {
   "cell_type": "markdown",
   "metadata": {},
   "source": [
    "convert column type object to cat"
   ]
  },
  {
   "cell_type": "code",
   "execution_count": 11,
   "metadata": {
    "pycharm": {
     "is_executing": false
    }
   },
   "outputs": [],
   "source": [
    "for item in object_attr:\n",
    "    data[item] = data[item].astype('category')"
   ]
  },
  {
   "cell_type": "markdown",
   "metadata": {},
   "source": [
    "validate above operation"
   ]
  },
  {
   "cell_type": "code",
   "execution_count": 12,
   "metadata": {
    "pycharm": {
     "is_executing": false
    }
   },
   "outputs": [
    {
     "data": {
      "application/vnd.dataresource+json": {
       "data": [
        {
         "deck_risk": 58186,
         "index": "count",
         "oe_constraint": 58186,
         "potential_issue": 58186,
         "ppap_risk": 58186,
         "rev_stop": 58186,
         "stop_auto_buy": 58186,
         "went_on_backorder": 58186
        },
        {
         "deck_risk": 2,
         "index": "unique",
         "oe_constraint": 2,
         "potential_issue": 2,
         "ppap_risk": 2,
         "rev_stop": 2,
         "stop_auto_buy": 2,
         "went_on_backorder": 2
        },
        {
         "deck_risk": "No",
         "index": "top",
         "oe_constraint": "No",
         "potential_issue": "No",
         "ppap_risk": "No",
         "rev_stop": "No",
         "stop_auto_buy": "Yes",
         "went_on_backorder": "No"
        },
        {
         "deck_risk": 46791,
         "index": "freq",
         "oe_constraint": 58174,
         "potential_issue": 58107,
         "ppap_risk": 50916,
         "rev_stop": 58173,
         "stop_auto_buy": 56736,
         "went_on_backorder": 47217
        }
       ],
       "schema": {
        "fields": [
         {
          "name": "index",
          "type": "string"
         },
         {
          "name": "potential_issue",
          "type": "string"
         },
         {
          "name": "deck_risk",
          "type": "string"
         },
         {
          "name": "oe_constraint",
          "type": "string"
         },
         {
          "name": "ppap_risk",
          "type": "string"
         },
         {
          "name": "stop_auto_buy",
          "type": "string"
         },
         {
          "name": "rev_stop",
          "type": "string"
         },
         {
          "name": "went_on_backorder",
          "type": "string"
         }
        ],
        "pandas_version": "0.20.0",
        "primaryKey": [
         "index"
        ]
       }
      },
      "text/html": [
       "<div>\n",
       "<style scoped>\n",
       "    .dataframe tbody tr th:only-of-type {\n",
       "        vertical-align: middle;\n",
       "    }\n",
       "\n",
       "    .dataframe tbody tr th {\n",
       "        vertical-align: top;\n",
       "    }\n",
       "\n",
       "    .dataframe thead th {\n",
       "        text-align: right;\n",
       "    }\n",
       "</style>\n",
       "<table border=\"1\" class=\"dataframe\">\n",
       "  <thead>\n",
       "    <tr style=\"text-align: right;\">\n",
       "      <th></th>\n",
       "      <th>potential_issue</th>\n",
       "      <th>deck_risk</th>\n",
       "      <th>oe_constraint</th>\n",
       "      <th>ppap_risk</th>\n",
       "      <th>stop_auto_buy</th>\n",
       "      <th>rev_stop</th>\n",
       "      <th>went_on_backorder</th>\n",
       "    </tr>\n",
       "  </thead>\n",
       "  <tbody>\n",
       "    <tr>\n",
       "      <th>count</th>\n",
       "      <td>58186</td>\n",
       "      <td>58186</td>\n",
       "      <td>58186</td>\n",
       "      <td>58186</td>\n",
       "      <td>58186</td>\n",
       "      <td>58186</td>\n",
       "      <td>58186</td>\n",
       "    </tr>\n",
       "    <tr>\n",
       "      <th>unique</th>\n",
       "      <td>2</td>\n",
       "      <td>2</td>\n",
       "      <td>2</td>\n",
       "      <td>2</td>\n",
       "      <td>2</td>\n",
       "      <td>2</td>\n",
       "      <td>2</td>\n",
       "    </tr>\n",
       "    <tr>\n",
       "      <th>top</th>\n",
       "      <td>No</td>\n",
       "      <td>No</td>\n",
       "      <td>No</td>\n",
       "      <td>No</td>\n",
       "      <td>Yes</td>\n",
       "      <td>No</td>\n",
       "      <td>No</td>\n",
       "    </tr>\n",
       "    <tr>\n",
       "      <th>freq</th>\n",
       "      <td>58107</td>\n",
       "      <td>46791</td>\n",
       "      <td>58174</td>\n",
       "      <td>50916</td>\n",
       "      <td>56736</td>\n",
       "      <td>58173</td>\n",
       "      <td>47217</td>\n",
       "    </tr>\n",
       "  </tbody>\n",
       "</table>\n",
       "</div>"
      ],
      "text/plain": [
       "       potential_issue deck_risk oe_constraint ppap_risk stop_auto_buy  \\\n",
       "count            58186     58186         58186     58186         58186   \n",
       "unique               2         2             2         2             2   \n",
       "top                 No        No            No        No           Yes   \n",
       "freq             58107     46791         58174     50916         56736   \n",
       "\n",
       "       rev_stop went_on_backorder  \n",
       "count     58186             58186  \n",
       "unique        2                 2  \n",
       "top          No                No  \n",
       "freq      58173             47217  "
      ]
     },
     "execution_count": 12,
     "metadata": {},
     "output_type": "execute_result"
    }
   ],
   "source": [
    "data.describe(include='category')"
   ]
  },
  {
   "cell_type": "markdown",
   "metadata": {},
   "source": [
    "data-types after type casting"
   ]
  },
  {
   "cell_type": "code",
   "execution_count": 13,
   "metadata": {
    "pycharm": {
     "is_executing": false
    }
   },
   "outputs": [
    {
     "data": {
      "application/vnd.dataresource+json": {
       "data": [
        {
         "index": "national_inv",
         "values": {
          "alignment": 8,
          "byteorder": "=",
          "descr": [
           [
            "",
            "<i8"
           ]
          ],
          "flags": 0,
          "isalignedstruct": false,
          "isnative": true,
          "kind": "i",
          "name": "int64",
          "ndim": 0,
          "num": 7,
          "str": "<i8"
         }
        },
        {
         "index": "lead_time",
         "values": {
          "alignment": 8,
          "byteorder": "=",
          "descr": [
           [
            "",
            "<f8"
           ]
          ],
          "flags": 0,
          "isalignedstruct": false,
          "isnative": true,
          "kind": "f",
          "name": "float64",
          "ndim": 0,
          "num": 12,
          "str": "<f8"
         }
        },
        {
         "index": "in_transit_qty",
         "values": {
          "alignment": 8,
          "byteorder": "=",
          "descr": [
           [
            "",
            "<i8"
           ]
          ],
          "flags": 0,
          "isalignedstruct": false,
          "isnative": true,
          "kind": "i",
          "name": "int64",
          "ndim": 0,
          "num": 7,
          "str": "<i8"
         }
        },
        {
         "index": "forecast_3_month",
         "values": {
          "alignment": 8,
          "byteorder": "=",
          "descr": [
           [
            "",
            "<i8"
           ]
          ],
          "flags": 0,
          "isalignedstruct": false,
          "isnative": true,
          "kind": "i",
          "name": "int64",
          "ndim": 0,
          "num": 7,
          "str": "<i8"
         }
        },
        {
         "index": "forecast_6_month",
         "values": {
          "alignment": 8,
          "byteorder": "=",
          "descr": [
           [
            "",
            "<i8"
           ]
          ],
          "flags": 0,
          "isalignedstruct": false,
          "isnative": true,
          "kind": "i",
          "name": "int64",
          "ndim": 0,
          "num": 7,
          "str": "<i8"
         }
        },
        {
         "index": "forecast_9_month",
         "values": {
          "alignment": 8,
          "byteorder": "=",
          "descr": [
           [
            "",
            "<i8"
           ]
          ],
          "flags": 0,
          "isalignedstruct": false,
          "isnative": true,
          "kind": "i",
          "name": "int64",
          "ndim": 0,
          "num": 7,
          "str": "<i8"
         }
        },
        {
         "index": "sales_1_month",
         "values": {
          "alignment": 8,
          "byteorder": "=",
          "descr": [
           [
            "",
            "<i8"
           ]
          ],
          "flags": 0,
          "isalignedstruct": false,
          "isnative": true,
          "kind": "i",
          "name": "int64",
          "ndim": 0,
          "num": 7,
          "str": "<i8"
         }
        },
        {
         "index": "sales_3_month",
         "values": {
          "alignment": 8,
          "byteorder": "=",
          "descr": [
           [
            "",
            "<i8"
           ]
          ],
          "flags": 0,
          "isalignedstruct": false,
          "isnative": true,
          "kind": "i",
          "name": "int64",
          "ndim": 0,
          "num": 7,
          "str": "<i8"
         }
        },
        {
         "index": "sales_6_month",
         "values": {
          "alignment": 8,
          "byteorder": "=",
          "descr": [
           [
            "",
            "<i8"
           ]
          ],
          "flags": 0,
          "isalignedstruct": false,
          "isnative": true,
          "kind": "i",
          "name": "int64",
          "ndim": 0,
          "num": 7,
          "str": "<i8"
         }
        },
        {
         "index": "sales_9_month",
         "values": {
          "alignment": 8,
          "byteorder": "=",
          "descr": [
           [
            "",
            "<i8"
           ]
          ],
          "flags": 0,
          "isalignedstruct": false,
          "isnative": true,
          "kind": "i",
          "name": "int64",
          "ndim": 0,
          "num": 7,
          "str": "<i8"
         }
        },
        {
         "index": "min_bank",
         "values": {
          "alignment": 8,
          "byteorder": "=",
          "descr": [
           [
            "",
            "<i8"
           ]
          ],
          "flags": 0,
          "isalignedstruct": false,
          "isnative": true,
          "kind": "i",
          "name": "int64",
          "ndim": 0,
          "num": 7,
          "str": "<i8"
         }
        },
        {
         "index": "potential_issue",
         "values": {
          "base": {
           "alignment": 8,
           "byteorder": "|",
           "descr": [
            [
             "",
             "|O"
            ]
           ],
           "flags": 63,
           "isalignedstruct": false,
           "isnative": true,
           "kind": "O",
           "name": "object",
           "ndim": 0,
           "num": 17,
           "str": "|O"
          },
          "isbuiltin": 0,
          "itemsize": 8,
          "na_value": null,
          "names": null,
          "ordered": false,
          "shape": [],
          "subdtype": null
         }
        },
        {
         "index": "pieces_past_due",
         "values": {
          "alignment": 8,
          "byteorder": "=",
          "descr": [
           [
            "",
            "<i8"
           ]
          ],
          "flags": 0,
          "isalignedstruct": false,
          "isnative": true,
          "kind": "i",
          "name": "int64",
          "ndim": 0,
          "num": 7,
          "str": "<i8"
         }
        },
        {
         "index": "perf_6_month_avg",
         "values": {
          "alignment": 8,
          "byteorder": "=",
          "descr": [
           [
            "",
            "<f8"
           ]
          ],
          "flags": 0,
          "isalignedstruct": false,
          "isnative": true,
          "kind": "f",
          "name": "float64",
          "ndim": 0,
          "num": 12,
          "str": "<f8"
         }
        },
        {
         "index": "perf_12_month_avg",
         "values": {
          "alignment": 8,
          "byteorder": "=",
          "descr": [
           [
            "",
            "<f8"
           ]
          ],
          "flags": 0,
          "isalignedstruct": false,
          "isnative": true,
          "kind": "f",
          "name": "float64",
          "ndim": 0,
          "num": 12,
          "str": "<f8"
         }
        },
        {
         "index": "local_bo_qty",
         "values": {
          "alignment": 8,
          "byteorder": "=",
          "descr": [
           [
            "",
            "<i8"
           ]
          ],
          "flags": 0,
          "isalignedstruct": false,
          "isnative": true,
          "kind": "i",
          "name": "int64",
          "ndim": 0,
          "num": 7,
          "str": "<i8"
         }
        },
        {
         "index": "deck_risk",
         "values": {
          "base": {
           "alignment": 8,
           "byteorder": "|",
           "descr": [
            [
             "",
             "|O"
            ]
           ],
           "flags": 63,
           "isalignedstruct": false,
           "isnative": true,
           "kind": "O",
           "name": "object",
           "ndim": 0,
           "num": 17,
           "str": "|O"
          },
          "isbuiltin": 0,
          "itemsize": 8,
          "na_value": null,
          "names": null,
          "ordered": false,
          "shape": [],
          "subdtype": null
         }
        },
        {
         "index": "oe_constraint",
         "values": {
          "base": {
           "alignment": 8,
           "byteorder": "|",
           "descr": [
            [
             "",
             "|O"
            ]
           ],
           "flags": 63,
           "isalignedstruct": false,
           "isnative": true,
           "kind": "O",
           "name": "object",
           "ndim": 0,
           "num": 17,
           "str": "|O"
          },
          "isbuiltin": 0,
          "itemsize": 8,
          "na_value": null,
          "names": null,
          "ordered": false,
          "shape": [],
          "subdtype": null
         }
        },
        {
         "index": "ppap_risk",
         "values": {
          "base": {
           "alignment": 8,
           "byteorder": "|",
           "descr": [
            [
             "",
             "|O"
            ]
           ],
           "flags": 63,
           "isalignedstruct": false,
           "isnative": true,
           "kind": "O",
           "name": "object",
           "ndim": 0,
           "num": 17,
           "str": "|O"
          },
          "isbuiltin": 0,
          "itemsize": 8,
          "na_value": null,
          "names": null,
          "ordered": false,
          "shape": [],
          "subdtype": null
         }
        },
        {
         "index": "stop_auto_buy",
         "values": {
          "base": {
           "alignment": 8,
           "byteorder": "|",
           "descr": [
            [
             "",
             "|O"
            ]
           ],
           "flags": 63,
           "isalignedstruct": false,
           "isnative": true,
           "kind": "O",
           "name": "object",
           "ndim": 0,
           "num": 17,
           "str": "|O"
          },
          "isbuiltin": 0,
          "itemsize": 8,
          "na_value": null,
          "names": null,
          "ordered": false,
          "shape": [],
          "subdtype": null
         }
        },
        {
         "index": "rev_stop",
         "values": {
          "base": {
           "alignment": 8,
           "byteorder": "|",
           "descr": [
            [
             "",
             "|O"
            ]
           ],
           "flags": 63,
           "isalignedstruct": false,
           "isnative": true,
           "kind": "O",
           "name": "object",
           "ndim": 0,
           "num": 17,
           "str": "|O"
          },
          "isbuiltin": 0,
          "itemsize": 8,
          "na_value": null,
          "names": null,
          "ordered": false,
          "shape": [],
          "subdtype": null
         }
        },
        {
         "index": "went_on_backorder",
         "values": {
          "base": {
           "alignment": 8,
           "byteorder": "|",
           "descr": [
            [
             "",
             "|O"
            ]
           ],
           "flags": 63,
           "isalignedstruct": false,
           "isnative": true,
           "kind": "O",
           "name": "object",
           "ndim": 0,
           "num": 17,
           "str": "|O"
          },
          "isbuiltin": 0,
          "itemsize": 8,
          "na_value": null,
          "names": null,
          "ordered": false,
          "shape": [],
          "subdtype": null
         }
        }
       ],
       "schema": {
        "fields": [
         {
          "name": "index",
          "type": "string"
         },
         {
          "name": "values",
          "type": "string"
         }
        ],
        "pandas_version": "0.20.0",
        "primaryKey": [
         "index"
        ]
       }
      },
      "text/plain": [
       "national_inv            int64\n",
       "lead_time             float64\n",
       "in_transit_qty          int64\n",
       "forecast_3_month        int64\n",
       "forecast_6_month        int64\n",
       "forecast_9_month        int64\n",
       "sales_1_month           int64\n",
       "sales_3_month           int64\n",
       "sales_6_month           int64\n",
       "sales_9_month           int64\n",
       "min_bank                int64\n",
       "potential_issue      category\n",
       "pieces_past_due         int64\n",
       "perf_6_month_avg      float64\n",
       "perf_12_month_avg     float64\n",
       "local_bo_qty            int64\n",
       "deck_risk            category\n",
       "oe_constraint        category\n",
       "ppap_risk            category\n",
       "stop_auto_buy        category\n",
       "rev_stop             category\n",
       "went_on_backorder    category\n",
       "dtype: object"
      ]
     },
     "execution_count": 13,
     "metadata": {},
     "output_type": "execute_result"
    }
   ],
   "source": [
    "data.dtypes"
   ]
  },
  {
   "cell_type": "markdown",
   "metadata": {},
   "source": [
    "columns without target variable"
   ]
  },
  {
   "cell_type": "code",
   "execution_count": 14,
   "metadata": {
    "pycharm": {
     "is_executing": false
    }
   },
   "outputs": [
    {
     "data": {
      "text/plain": [
       "['potential_issue',\n",
       " 'deck_risk',\n",
       " 'oe_constraint',\n",
       " 'ppap_risk',\n",
       " 'stop_auto_buy',\n",
       " 'rev_stop']"
      ]
     },
     "execution_count": 14,
     "metadata": {},
     "output_type": "execute_result"
    }
   ],
   "source": [
    "object_attr.remove('went_on_backorder')\n",
    "cat_attr = object_attr\n",
    "cat_attr"
   ]
  },
  {
   "cell_type": "markdown",
   "metadata": {},
   "source": [
    "dummification of target variables"
   ]
  },
  {
   "cell_type": "code",
   "execution_count": 15,
   "metadata": {
    "pycharm": {
     "is_executing": false
    }
   },
   "outputs": [
    {
     "data": {
      "text/plain": [
       "Index(['national_inv', 'lead_time', 'in_transit_qty', 'forecast_3_month',\n",
       "       'forecast_6_month', 'forecast_9_month', 'sales_1_month',\n",
       "       'sales_3_month', 'sales_6_month', 'sales_9_month', 'min_bank',\n",
       "       'pieces_past_due', 'perf_6_month_avg', 'perf_12_month_avg',\n",
       "       'local_bo_qty', 'went_on_backorder', 'potential_issue_Yes',\n",
       "       'deck_risk_Yes', 'oe_constraint_Yes', 'ppap_risk_Yes',\n",
       "       'stop_auto_buy_Yes', 'rev_stop_Yes'],\n",
       "      dtype='object')"
      ]
     },
     "execution_count": 15,
     "metadata": {},
     "output_type": "execute_result"
    }
   ],
   "source": [
    "data = pd.get_dummies(data, columns=cat_attr, prefix=cat_attr, prefix_sep='_', drop_first=True)\n",
    "data.columns"
   ]
  },
  {
   "cell_type": "markdown",
   "metadata": {},
   "source": [
    "check head to see new columns added after dummification"
   ]
  },
  {
   "cell_type": "code",
   "execution_count": 16,
   "metadata": {
    "pycharm": {
     "is_executing": false
    }
   },
   "outputs": [
    {
     "data": {
      "application/vnd.dataresource+json": {
       "data": [
        {
         "deck_risk_Yes": 1,
         "forecast_3_month": 0,
         "forecast_6_month": 0,
         "forecast_9_month": 0,
         "in_transit_qty": 0,
         "index": 1,
         "lead_time": 2,
         "local_bo_qty": 0,
         "min_bank": 0,
         "national_inv": 7,
         "oe_constraint_Yes": 0,
         "perf_12_month_avg": 0.28,
         "perf_6_month_avg": 0.5,
         "pieces_past_due": 0,
         "potential_issue_Yes": 0,
         "ppap_risk_Yes": 0,
         "rev_stop_Yes": 0,
         "sales_1_month": 0,
         "sales_3_month": 0,
         "sales_6_month": 0,
         "sales_9_month": 0,
         "stop_auto_buy_Yes": 1,
         "went_on_backorder": "No"
        },
        {
         "deck_risk_Yes": 0,
         "forecast_3_month": 10,
         "forecast_6_month": 77,
         "forecast_9_month": 184,
         "in_transit_qty": 10,
         "index": 2,
         "lead_time": 15,
         "local_bo_qty": 0,
         "min_bank": 47,
         "national_inv": 258,
         "oe_constraint_Yes": 0,
         "perf_12_month_avg": 0.7,
         "perf_6_month_avg": 0.54,
         "pieces_past_due": 0,
         "potential_issue_Yes": 0,
         "ppap_risk_Yes": 0,
         "rev_stop_Yes": 0,
         "sales_1_month": 46,
         "sales_3_month": 132,
         "sales_6_month": 256,
         "sales_9_month": 365,
         "stop_auto_buy_Yes": 1,
         "went_on_backorder": "No"
        },
        {
         "deck_risk_Yes": 1,
         "forecast_3_month": 0,
         "forecast_6_month": 0,
         "forecast_9_month": 0,
         "in_transit_qty": 0,
         "index": 3,
         "lead_time": 2,
         "local_bo_qty": 0,
         "min_bank": 1,
         "national_inv": 46,
         "oe_constraint_Yes": 0,
         "perf_12_month_avg": 0.9,
         "perf_6_month_avg": 0.75,
         "pieces_past_due": 0,
         "potential_issue_Yes": 0,
         "ppap_risk_Yes": 0,
         "rev_stop_Yes": 0,
         "sales_1_month": 1,
         "sales_3_month": 2,
         "sales_6_month": 6,
         "sales_9_month": 9,
         "stop_auto_buy_Yes": 1,
         "went_on_backorder": "No"
        },
        {
         "deck_risk_Yes": 0,
         "forecast_3_month": 4,
         "forecast_6_month": 6,
         "forecast_9_month": 10,
         "in_transit_qty": 0,
         "index": 4,
         "lead_time": 2,
         "local_bo_qty": 0,
         "min_bank": 0,
         "national_inv": 2,
         "oe_constraint_Yes": 0,
         "perf_12_month_avg": 0.92,
         "perf_6_month_avg": 0.97,
         "pieces_past_due": 0,
         "potential_issue_Yes": 0,
         "ppap_risk_Yes": 0,
         "rev_stop_Yes": 0,
         "sales_1_month": 2,
         "sales_3_month": 2,
         "sales_6_month": 5,
         "sales_9_month": 6,
         "stop_auto_buy_Yes": 1,
         "went_on_backorder": "No"
        },
        {
         "deck_risk_Yes": 1,
         "forecast_3_month": 0,
         "forecast_6_month": 0,
         "forecast_9_month": 0,
         "in_transit_qty": 0,
         "index": 5,
         "lead_time": 12,
         "local_bo_qty": 0,
         "min_bank": 3,
         "national_inv": 297,
         "oe_constraint_Yes": 0,
         "perf_12_month_avg": 0.75,
         "perf_6_month_avg": 0.58,
         "pieces_past_due": 0,
         "potential_issue_Yes": 0,
         "ppap_risk_Yes": 0,
         "rev_stop_Yes": 0,
         "sales_1_month": 5,
         "sales_3_month": 6,
         "sales_6_month": 44,
         "sales_9_month": 57,
         "stop_auto_buy_Yes": 1,
         "went_on_backorder": "No"
        }
       ],
       "schema": {
        "fields": [
         {
          "name": "index",
          "type": "integer"
         },
         {
          "name": "national_inv",
          "type": "integer"
         },
         {
          "name": "lead_time",
          "type": "number"
         },
         {
          "name": "in_transit_qty",
          "type": "integer"
         },
         {
          "name": "forecast_3_month",
          "type": "integer"
         },
         {
          "name": "forecast_6_month",
          "type": "integer"
         },
         {
          "name": "forecast_9_month",
          "type": "integer"
         },
         {
          "name": "sales_1_month",
          "type": "integer"
         },
         {
          "name": "sales_3_month",
          "type": "integer"
         },
         {
          "name": "sales_6_month",
          "type": "integer"
         },
         {
          "name": "sales_9_month",
          "type": "integer"
         },
         {
          "name": "min_bank",
          "type": "integer"
         },
         {
          "name": "pieces_past_due",
          "type": "integer"
         },
         {
          "name": "perf_6_month_avg",
          "type": "number"
         },
         {
          "name": "perf_12_month_avg",
          "type": "number"
         },
         {
          "name": "local_bo_qty",
          "type": "integer"
         },
         {
          "constraints": {
           "enum": [
            "No",
            "Yes"
           ]
          },
          "name": "went_on_backorder",
          "ordered": false,
          "type": "any"
         },
         {
          "name": "potential_issue_Yes",
          "type": "integer"
         },
         {
          "name": "deck_risk_Yes",
          "type": "integer"
         },
         {
          "name": "oe_constraint_Yes",
          "type": "integer"
         },
         {
          "name": "ppap_risk_Yes",
          "type": "integer"
         },
         {
          "name": "stop_auto_buy_Yes",
          "type": "integer"
         },
         {
          "name": "rev_stop_Yes",
          "type": "integer"
         }
        ],
        "pandas_version": "0.20.0",
        "primaryKey": [
         "index"
        ]
       }
      },
      "text/html": [
       "<div>\n",
       "<style scoped>\n",
       "    .dataframe tbody tr th:only-of-type {\n",
       "        vertical-align: middle;\n",
       "    }\n",
       "\n",
       "    .dataframe tbody tr th {\n",
       "        vertical-align: top;\n",
       "    }\n",
       "\n",
       "    .dataframe thead th {\n",
       "        text-align: right;\n",
       "    }\n",
       "</style>\n",
       "<table border=\"1\" class=\"dataframe\">\n",
       "  <thead>\n",
       "    <tr style=\"text-align: right;\">\n",
       "      <th></th>\n",
       "      <th>national_inv</th>\n",
       "      <th>lead_time</th>\n",
       "      <th>in_transit_qty</th>\n",
       "      <th>forecast_3_month</th>\n",
       "      <th>forecast_6_month</th>\n",
       "      <th>forecast_9_month</th>\n",
       "      <th>sales_1_month</th>\n",
       "      <th>sales_3_month</th>\n",
       "      <th>sales_6_month</th>\n",
       "      <th>sales_9_month</th>\n",
       "      <th>...</th>\n",
       "      <th>perf_6_month_avg</th>\n",
       "      <th>perf_12_month_avg</th>\n",
       "      <th>local_bo_qty</th>\n",
       "      <th>went_on_backorder</th>\n",
       "      <th>potential_issue_Yes</th>\n",
       "      <th>deck_risk_Yes</th>\n",
       "      <th>oe_constraint_Yes</th>\n",
       "      <th>ppap_risk_Yes</th>\n",
       "      <th>stop_auto_buy_Yes</th>\n",
       "      <th>rev_stop_Yes</th>\n",
       "    </tr>\n",
       "  </thead>\n",
       "  <tbody>\n",
       "    <tr>\n",
       "      <th>1</th>\n",
       "      <td>7</td>\n",
       "      <td>2.0</td>\n",
       "      <td>0</td>\n",
       "      <td>0</td>\n",
       "      <td>0</td>\n",
       "      <td>0</td>\n",
       "      <td>0</td>\n",
       "      <td>0</td>\n",
       "      <td>0</td>\n",
       "      <td>0</td>\n",
       "      <td>...</td>\n",
       "      <td>0.50</td>\n",
       "      <td>0.28</td>\n",
       "      <td>0</td>\n",
       "      <td>No</td>\n",
       "      <td>0</td>\n",
       "      <td>1</td>\n",
       "      <td>0</td>\n",
       "      <td>0</td>\n",
       "      <td>1</td>\n",
       "      <td>0</td>\n",
       "    </tr>\n",
       "    <tr>\n",
       "      <th>2</th>\n",
       "      <td>258</td>\n",
       "      <td>15.0</td>\n",
       "      <td>10</td>\n",
       "      <td>10</td>\n",
       "      <td>77</td>\n",
       "      <td>184</td>\n",
       "      <td>46</td>\n",
       "      <td>132</td>\n",
       "      <td>256</td>\n",
       "      <td>365</td>\n",
       "      <td>...</td>\n",
       "      <td>0.54</td>\n",
       "      <td>0.70</td>\n",
       "      <td>0</td>\n",
       "      <td>No</td>\n",
       "      <td>0</td>\n",
       "      <td>0</td>\n",
       "      <td>0</td>\n",
       "      <td>0</td>\n",
       "      <td>1</td>\n",
       "      <td>0</td>\n",
       "    </tr>\n",
       "    <tr>\n",
       "      <th>3</th>\n",
       "      <td>46</td>\n",
       "      <td>2.0</td>\n",
       "      <td>0</td>\n",
       "      <td>0</td>\n",
       "      <td>0</td>\n",
       "      <td>0</td>\n",
       "      <td>1</td>\n",
       "      <td>2</td>\n",
       "      <td>6</td>\n",
       "      <td>9</td>\n",
       "      <td>...</td>\n",
       "      <td>0.75</td>\n",
       "      <td>0.90</td>\n",
       "      <td>0</td>\n",
       "      <td>No</td>\n",
       "      <td>0</td>\n",
       "      <td>1</td>\n",
       "      <td>0</td>\n",
       "      <td>0</td>\n",
       "      <td>1</td>\n",
       "      <td>0</td>\n",
       "    </tr>\n",
       "    <tr>\n",
       "      <th>4</th>\n",
       "      <td>2</td>\n",
       "      <td>2.0</td>\n",
       "      <td>0</td>\n",
       "      <td>4</td>\n",
       "      <td>6</td>\n",
       "      <td>10</td>\n",
       "      <td>2</td>\n",
       "      <td>2</td>\n",
       "      <td>5</td>\n",
       "      <td>6</td>\n",
       "      <td>...</td>\n",
       "      <td>0.97</td>\n",
       "      <td>0.92</td>\n",
       "      <td>0</td>\n",
       "      <td>No</td>\n",
       "      <td>0</td>\n",
       "      <td>0</td>\n",
       "      <td>0</td>\n",
       "      <td>0</td>\n",
       "      <td>1</td>\n",
       "      <td>0</td>\n",
       "    </tr>\n",
       "    <tr>\n",
       "      <th>5</th>\n",
       "      <td>297</td>\n",
       "      <td>12.0</td>\n",
       "      <td>0</td>\n",
       "      <td>0</td>\n",
       "      <td>0</td>\n",
       "      <td>0</td>\n",
       "      <td>5</td>\n",
       "      <td>6</td>\n",
       "      <td>44</td>\n",
       "      <td>57</td>\n",
       "      <td>...</td>\n",
       "      <td>0.58</td>\n",
       "      <td>0.75</td>\n",
       "      <td>0</td>\n",
       "      <td>No</td>\n",
       "      <td>0</td>\n",
       "      <td>1</td>\n",
       "      <td>0</td>\n",
       "      <td>0</td>\n",
       "      <td>1</td>\n",
       "      <td>0</td>\n",
       "    </tr>\n",
       "  </tbody>\n",
       "</table>\n",
       "<p>5 rows × 22 columns</p>\n",
       "</div>"
      ],
      "text/plain": [
       "   national_inv  lead_time  in_transit_qty  forecast_3_month  \\\n",
       "1             7        2.0               0                 0   \n",
       "2           258       15.0              10                10   \n",
       "3            46        2.0               0                 0   \n",
       "4             2        2.0               0                 4   \n",
       "5           297       12.0               0                 0   \n",
       "\n",
       "   forecast_6_month  forecast_9_month  sales_1_month  sales_3_month  \\\n",
       "1                 0                 0              0              0   \n",
       "2                77               184             46            132   \n",
       "3                 0                 0              1              2   \n",
       "4                 6                10              2              2   \n",
       "5                 0                 0              5              6   \n",
       "\n",
       "   sales_6_month  sales_9_month  ...  perf_6_month_avg  perf_12_month_avg  \\\n",
       "1              0              0  ...              0.50               0.28   \n",
       "2            256            365  ...              0.54               0.70   \n",
       "3              6              9  ...              0.75               0.90   \n",
       "4              5              6  ...              0.97               0.92   \n",
       "5             44             57  ...              0.58               0.75   \n",
       "\n",
       "   local_bo_qty  went_on_backorder  potential_issue_Yes deck_risk_Yes  \\\n",
       "1             0                 No                    0             1   \n",
       "2             0                 No                    0             0   \n",
       "3             0                 No                    0             1   \n",
       "4             0                 No                    0             0   \n",
       "5             0                 No                    0             1   \n",
       "\n",
       "   oe_constraint_Yes  ppap_risk_Yes  stop_auto_buy_Yes  rev_stop_Yes  \n",
       "1                  0              0                  1             0  \n",
       "2                  0              0                  1             0  \n",
       "3                  0              0                  1             0  \n",
       "4                  0              0                  1             0  \n",
       "5                  0              0                  1             0  \n",
       "\n",
       "[5 rows x 22 columns]"
      ]
     },
     "execution_count": 16,
     "metadata": {},
     "output_type": "execute_result"
    }
   ],
   "source": [
    "data.head()"
   ]
  },
  {
   "cell_type": "markdown",
   "metadata": {},
   "source": [
    "Define predictors and target variables"
   ]
  },
  {
   "cell_type": "code",
   "execution_count": 17,
   "metadata": {
    "pycharm": {
     "is_executing": false
    }
   },
   "outputs": [],
   "source": [
    "X, y = data.drop('went_on_backorder', axis=1), data.went_on_backorder"
   ]
  },
  {
   "cell_type": "markdown",
   "metadata": {},
   "source": [
    "train test train_test_split"
   ]
  },
  {
   "cell_type": "code",
   "execution_count": 18,
   "metadata": {
    "pycharm": {
     "is_executing": false
    }
   },
   "outputs": [],
   "source": [
    "X_train, X_test, y_train, y_test = train_test_split(X, y, train_size=0.7, random_state=123)"
   ]
  },
  {
   "cell_type": "markdown",
   "metadata": {},
   "source": [
    "validate the splitting operation"
   ]
  },
  {
   "cell_type": "code",
   "execution_count": 19,
   "metadata": {
    "pycharm": {
     "is_executing": false
    }
   },
   "outputs": [
    {
     "name": "stdout",
     "output_type": "stream",
     "text": [
      "(58186, 21)\n",
      "(40730, 21)\n",
      "(17456, 21)\n"
     ]
    }
   ],
   "source": [
    "print(X.shape)\n",
    "print(X_train.shape)\n",
    "print(X_test.shape)"
   ]
  },
  {
   "cell_type": "markdown",
   "metadata": {},
   "source": [
    "Validate whether or not our splitting operation is stratified"
   ]
  },
  {
   "cell_type": "code",
   "execution_count": 20,
   "metadata": {
    "pycharm": {
     "is_executing": false
    }
   },
   "outputs": [
    {
     "name": "stdout",
     "output_type": "stream",
     "text": [
      "No     33067\n",
      "Yes     7663\n",
      "Name: went_on_backorder, dtype: int64\n",
      "No     0.811859\n",
      "Yes    0.188141\n",
      "Name: went_on_backorder, dtype: float64\n",
      "No     0.81061\n",
      "Yes    0.18939\n",
      "Name: went_on_backorder, dtype: float64\n"
     ]
    }
   ],
   "source": [
    "print(y_train.value_counts())\n",
    "print(y_train.value_counts()/X_train.shape[0])\n",
    "print(y_test.value_counts()/X_test.shape[0])"
   ]
  },
  {
   "cell_type": "markdown",
   "metadata": {},
   "source": [
    " Basic Modeling"
   ]
  },
  {
   "cell_type": "markdown",
   "metadata": {},
   "source": [
    "instantiating model_selection"
   ]
  },
  {
   "cell_type": "code",
   "execution_count": 21,
   "metadata": {
    "pycharm": {
     "is_executing": false
    }
   },
   "outputs": [
    {
     "data": {
      "text/plain": [
       "DecisionTreeClassifier(ccp_alpha=0.0, class_weight=None, criterion='gini',\n",
       "                       max_depth=None, max_features=None, max_leaf_nodes=None,\n",
       "                       min_impurity_decrease=0.0, min_impurity_split=None,\n",
       "                       min_samples_leaf=1, min_samples_split=2,\n",
       "                       min_weight_fraction_leaf=0.0, presort='deprecated',\n",
       "                       random_state=None, splitter='best')"
      ]
     },
     "execution_count": 21,
     "metadata": {},
     "output_type": "execute_result"
    }
   ],
   "source": [
    "model_dt = DecisionTreeClassifier()\n",
    "model_dt.fit(X_train, y_train)"
   ]
  },
  {
   "cell_type": "markdown",
   "metadata": {},
   "source": [
    "predict on train data first"
   ]
  },
  {
   "cell_type": "code",
   "execution_count": 22,
   "metadata": {
    "pycharm": {
     "is_executing": false
    }
   },
   "outputs": [],
   "source": [
    "y_train_pred = model_dt.predict(X_train)\n",
    "y_test_pred = model_dt.predict(X_test)"
   ]
  },
  {
   "cell_type": "markdown",
   "metadata": {},
   "source": [
    "confusion matrix on train to determine how it learnt"
   ]
  },
  {
   "cell_type": "code",
   "execution_count": 23,
   "metadata": {
    "pycharm": {
     "is_executing": false
    }
   },
   "outputs": [
    {
     "data": {
      "text/plain": [
       "array([[33047,    20],\n",
       "       [   69,  7594]])"
      ]
     },
     "execution_count": 23,
     "metadata": {},
     "output_type": "execute_result"
    }
   ],
   "source": [
    "confusion_matrix(y_true=y_train, y_pred=y_train_pred)"
   ]
  },
  {
   "cell_type": "markdown",
   "metadata": {},
   "source": [
    "confusion matrix on test to determine how it performed"
   ]
  },
  {
   "cell_type": "code",
   "execution_count": 24,
   "metadata": {
    "pycharm": {
     "is_executing": false
    }
   },
   "outputs": [
    {
     "data": {
      "text/plain": [
       "array([[13202,   948],\n",
       "       [  757,  2549]])"
      ]
     },
     "execution_count": 24,
     "metadata": {},
     "output_type": "execute_result"
    }
   ],
   "source": [
    "confusion_matrix(y_true=y_test, y_pred=y_test_pred)"
   ]
  },
  {
   "cell_type": "markdown",
   "metadata": {},
   "source": [
    "accuracy score on train prediction"
   ]
  },
  {
   "cell_type": "code",
   "execution_count": 25,
   "metadata": {
    "pycharm": {
     "is_executing": false
    }
   },
   "outputs": [
    {
     "data": {
      "text/plain": [
       "0.9978148784679597"
      ]
     },
     "execution_count": 25,
     "metadata": {},
     "output_type": "execute_result"
    }
   ],
   "source": [
    "accuracy_score(y_true=y_train, y_pred=y_train_pred)"
   ]
  },
  {
   "cell_type": "markdown",
   "metadata": {},
   "source": [
    "accuracy score on test prediction"
   ]
  },
  {
   "cell_type": "code",
   "execution_count": 26,
   "metadata": {
    "pycharm": {
     "is_executing": false
    }
   },
   "outputs": [
    {
     "data": {
      "text/plain": [
       "0.9023258478460129"
      ]
     },
     "execution_count": 26,
     "metadata": {},
     "output_type": "execute_result"
    }
   ],
   "source": [
    "accuracy_score(y_true=y_test, y_pred=y_test_pred)"
   ]
  },
  {
   "cell_type": "markdown",
   "metadata": {},
   "source": [
    "get tree length (if interested)"
   ]
  },
  {
   "cell_type": "code",
   "execution_count": 27,
   "metadata": {
    "pycharm": {
     "is_executing": false
    }
   },
   "outputs": [
    {
     "name": "stdout",
     "output_type": "stream",
     "text": [
      "26\n"
     ]
    }
   ],
   "source": [
    "print(model_dt.get_depth())"
   ]
  },
  {
   "cell_type": "markdown",
   "metadata": {},
   "source": [
    "get tree length with leaves (if interested)"
   ]
  },
  {
   "cell_type": "code",
   "execution_count": 28,
   "metadata": {
    "pycharm": {
     "is_executing": false
    }
   },
   "outputs": [
    {
     "name": "stdout",
     "output_type": "stream",
     "text": [
      "3335\n"
     ]
    }
   ],
   "source": [
    "print(model_dt.get_n_leaves())"
   ]
  },
  {
   "cell_type": "markdown",
   "metadata": {},
   "source": [
    "recall score on train prediction"
   ]
  },
  {
   "cell_type": "code",
   "execution_count": 29,
   "metadata": {
    "pycharm": {
     "is_executing": false
    }
   },
   "outputs": [
    {
     "data": {
      "text/plain": [
       "0.9909956935925878"
      ]
     },
     "execution_count": 29,
     "metadata": {},
     "output_type": "execute_result"
    }
   ],
   "source": [
    "recall_score(y_true=y_train, y_pred=y_train_pred, pos_label='Yes')"
   ]
  },
  {
   "cell_type": "markdown",
   "metadata": {},
   "source": [
    "recall score on test prediction"
   ]
  },
  {
   "cell_type": "code",
   "execution_count": 30,
   "metadata": {
    "pycharm": {
     "is_executing": false
    }
   },
   "outputs": [
    {
     "data": {
      "text/plain": [
       "0.7710223835450696"
      ]
     },
     "execution_count": 30,
     "metadata": {},
     "output_type": "execute_result"
    }
   ],
   "source": [
    "recall_score(y_true=y_test, y_pred=y_test_pred, pos_label='Yes')"
   ]
  },
  {
   "cell_type": "markdown",
   "metadata": {},
   "source": [
    "feature importance"
   ]
  },
  {
   "cell_type": "code",
   "execution_count": 31,
   "metadata": {
    "pycharm": {
     "is_executing": false
    }
   },
   "outputs": [
    {
     "data": {
      "text/plain": [
       "array([3.12318056e-01, 3.26199385e-02, 3.15332296e-02, 9.13773730e-02,\n",
       "       2.83516694e-02, 1.11023953e-01, 6.96727368e-02, 3.47246736e-02,\n",
       "       4.68089094e-02, 4.70727573e-02, 3.06575406e-02, 7.47383773e-03,\n",
       "       5.71569889e-02, 6.47414725e-02, 1.00895021e-02, 1.28746597e-04,\n",
       "       1.20806098e-02, 0.00000000e+00, 9.86384271e-03, 2.30416316e-03,\n",
       "       0.00000000e+00])"
      ]
     },
     "execution_count": 31,
     "metadata": {},
     "output_type": "execute_result"
    }
   ],
   "source": [
    "feature_importances = model_dt.feature_importances_\n",
    "feature_importances"
   ]
  },
  {
   "cell_type": "markdown",
   "metadata": {},
   "source": [
    "plot feature_importances"
   ]
  },
  {
   "cell_type": "code",
   "execution_count": 32,
   "metadata": {
    "pycharm": {
     "is_executing": false
    }
   },
   "outputs": [
    {
     "data": {
      "image/png": "[encoded data removed]",
      "text/plain": [
       "<Figure size 864x576 with 1 Axes>"
      ]
     },
     "metadata": {
      "needs_background": "light"
     },
     "output_type": "display_data"
    }
   ],
   "source": [
    "plt.figure(figsize = (12,8))\n",
    "sns.set_style('whitegrid')\n",
    "plt.barh(range(len(feature_importances)), feature_importances)\n",
    "plt.show()"
   ]
  },
  {
   "cell_type": "code",
   "execution_count": 33,
   "metadata": {
    "pycharm": {
     "is_executing": false
    }
   },
   "outputs": [
    {
     "data": {
      "image/png": "[encoded data removed]",
      "text/plain": [
       "<Figure size 864x576 with 1 Axes>"
      ]
     },
     "metadata": {},
     "output_type": "display_data"
    }
   ],
   "source": [
    "\n",
    "plt.figure(figsize = (12,8))\n",
    "d_f = pd.DataFrame(feature_importances)\n",
    "d_f[0].sort_values().plot(kind='barh')\n",
    "plt.show()"
   ]
  },
  {
   "cell_type": "code",
   "execution_count": 34,
   "metadata": {
    "pycharm": {
     "is_executing": false,
     "name": "#%%\n"
    }
   },
   "outputs": [
    {
     "data": {
      "image/png": "[encoded data removed]",
      "text/plain": [
       "<Figure size 864x576 with 1 Axes>"
      ]
     },
     "metadata": {},
     "output_type": "display_data"
    }
   ],
   "source": [
    "plt.figure(figsize = (12,8))\n",
    "pd.Series(feature_importances,X.columns).sort_values().plot(kind=\"barh\")\n",
    "plt.show()"
   ]
  },
  {
   "cell_type": "code",
   "execution_count": 35,
   "metadata": {
    "pycharm": {
     "is_executing": false
    }
   },
   "outputs": [
    {
     "data": {
      "image/png": "[encoded data removed]",
      "text/plain": [
       "<Figure size 720x576 with 1 Axes>"
      ]
     },
     "metadata": {},
     "output_type": "display_data"
    }
   ],
   "source": [
    "features = list(X_train.columns)\n",
    "sorted_indices = np.argsort(feature_importances)\n",
    "plt.figure(figsize = (10,8))\n",
    "sns.set_style('darkgrid')\n",
    "plt.barh(range(len(feature_importances)), feature_importances[sorted_indices])\n",
    "plt.yticks(range(len(feature_importances)), [features[i] for i in sorted_indices])\n",
    "plt.show()"
   ]
  },
  {
   "cell_type": "markdown",
   "metadata": {},
   "source": [
    "  Model 2"
   ]
  },
  {
   "cell_type": "code",
   "execution_count": 36,
   "metadata": {
    "pycharm": {
     "is_executing": false
    }
   },
   "outputs": [],
   "source": [
    "model_dt2 = DecisionTreeClassifier(max_leaf_nodes=20)\n",
    "model_dt2.fit(X_train, y_train)\n",
    "# predict on train data first\n",
    "y_train_pred2 = model_dt2.predict(X_train)\n",
    "y_test_pred2 = model_dt2.predict(X_test)"
   ]
  },
  {
   "cell_type": "markdown",
   "metadata": {},
   "source": [
    "confusion matrix on train to determine how it learnt"
   ]
  },
  {
   "cell_type": "code",
   "execution_count": 37,
   "metadata": {
    "pycharm": {
     "is_executing": false
    }
   },
   "outputs": [
    {
     "data": {
      "text/plain": [
       "array([[31151,  1916],\n",
       "       [ 2592,  5071]])"
      ]
     },
     "execution_count": 37,
     "metadata": {},
     "output_type": "execute_result"
    }
   ],
   "source": [
    "confusion_matrix(y_true=y_train, y_pred=y_train_pred2)"
   ]
  },
  {
   "cell_type": "markdown",
   "metadata": {},
   "source": [
    "confusion matrix on test to determine how it performed"
   ]
  },
  {
   "cell_type": "code",
   "execution_count": 38,
   "metadata": {
    "pycharm": {
     "is_executing": false
    }
   },
   "outputs": [
    {
     "data": {
      "text/plain": [
       "array([[13301,   849],\n",
       "       [ 1119,  2187]])"
      ]
     },
     "execution_count": 38,
     "metadata": {},
     "output_type": "execute_result"
    }
   ],
   "source": [
    "confusion_matrix(y_true=y_test, y_pred=y_test_pred2)"
   ]
  },
  {
   "cell_type": "markdown",
   "metadata": {},
   "source": [
    "accuracy score on train prediction"
   ]
  },
  {
   "cell_type": "code",
   "execution_count": 39,
   "metadata": {
    "pycharm": {
     "is_executing": false
    }
   },
   "outputs": [
    {
     "data": {
      "text/plain": [
       "0.8893199116130617"
      ]
     },
     "execution_count": 39,
     "metadata": {},
     "output_type": "execute_result"
    }
   ],
   "source": [
    "accuracy_score(y_true=y_train, y_pred=y_train_pred2)"
   ]
  },
  {
   "cell_type": "markdown",
   "metadata": {},
   "source": [
    "accuracy score on test prediction"
   ]
  },
  {
   "cell_type": "code",
   "execution_count": 40,
   "metadata": {
    "pycharm": {
     "is_executing": false
    }
   },
   "outputs": [
    {
     "data": {
      "text/plain": [
       "0.8872593950504125"
      ]
     },
     "execution_count": 40,
     "metadata": {},
     "output_type": "execute_result"
    }
   ],
   "source": [
    "accuracy_score(y_true=y_test, y_pred=y_test_pred2)"
   ]
  },
  {
   "cell_type": "markdown",
   "metadata": {},
   "source": [
    "get tree length (if interested)"
   ]
  },
  {
   "cell_type": "code",
   "execution_count": 41,
   "metadata": {
    "pycharm": {
     "is_executing": false
    }
   },
   "outputs": [
    {
     "name": "stdout",
     "output_type": "stream",
     "text": [
      "7\n"
     ]
    }
   ],
   "source": [
    "print(model_dt2.get_depth())"
   ]
  },
  {
   "cell_type": "markdown",
   "metadata": {},
   "source": [
    "get tree length with leaves (if interested)"
   ]
  },
  {
   "cell_type": "code",
   "execution_count": 42,
   "metadata": {
    "pycharm": {
     "is_executing": false
    }
   },
   "outputs": [
    {
     "name": "stdout",
     "output_type": "stream",
     "text": [
      "20\n"
     ]
    }
   ],
   "source": [
    "print(model_dt2.get_n_leaves())"
   ]
  },
  {
   "cell_type": "markdown",
   "metadata": {},
   "source": [
    "recall score on train prediction"
   ]
  },
  {
   "cell_type": "code",
   "execution_count": 43,
   "metadata": {
    "pycharm": {
     "is_executing": false
    }
   },
   "outputs": [
    {
     "data": {
      "text/plain": [
       "0.6617512723476445"
      ]
     },
     "execution_count": 43,
     "metadata": {},
     "output_type": "execute_result"
    }
   ],
   "source": [
    "recall_score(y_true=y_train, y_pred=y_train_pred2, pos_label='Yes')"
   ]
  },
  {
   "cell_type": "markdown",
   "metadata": {},
   "source": [
    "recall score on test prediction"
   ]
  },
  {
   "cell_type": "code",
   "execution_count": 44,
   "metadata": {
    "pycharm": {
     "is_executing": false
    }
   },
   "outputs": [
    {
     "data": {
      "text/plain": [
       "0.661524500907441"
      ]
     },
     "execution_count": 44,
     "metadata": {},
     "output_type": "execute_result"
    }
   ],
   "source": [
    "recall_score(y_true=y_test, y_pred=y_test_pred2, pos_label='Yes')"
   ]
  },
  {
   "cell_type": "markdown",
   "metadata": {},
   "source": [
    "feature importance"
   ]
  },
  {
   "cell_type": "code",
   "execution_count": 45,
   "metadata": {
    "pycharm": {
     "is_executing": false
    }
   },
   "outputs": [
    {
     "data": {
      "text/plain": [
       "array([0.54987323, 0.        , 0.02233455, 0.12100624, 0.        ,\n",
       "       0.15941685, 0.0891661 , 0.        , 0.03853863, 0.        ,\n",
       "       0.        , 0.00483304, 0.        , 0.        , 0.01483136,\n",
       "       0.        , 0.        , 0.        , 0.        , 0.        ,\n",
       "       0.        ])"
      ]
     },
     "execution_count": 45,
     "metadata": {},
     "output_type": "execute_result"
    }
   ],
   "source": [
    "feature_importances2 = model_dt2.feature_importances_\n",
    "feature_importances2"
   ]
  },
  {
   "cell_type": "code",
   "execution_count": 46,
   "metadata": {
    "pycharm": {
     "is_executing": false
    }
   },
   "outputs": [
    {
     "data": {
      "image/png": "[encoded data removed]",
      "text/plain": [
       "<Figure size 720x576 with 1 Axes>"
      ]
     },
     "metadata": {},
     "output_type": "display_data"
    }
   ],
   "source": [
    "sorted_indices2 = np.argsort(feature_importances2)\n",
    "plt.figure(figsize = (10,8))\n",
    "sns.set_style('whitegrid')\n",
    "plt.barh(range(len(feature_importances2)), feature_importances2[sorted_indices2])\n",
    "plt.yticks(range(len(feature_importances2)), [features[i] for i in sorted_indices2])\n",
    "plt.show()"
   ]
  },
  {
   "cell_type": "code",
   "execution_count": 47,
   "metadata": {
    "pycharm": {
     "is_executing": false
    }
   },
   "outputs": [
    {
     "data": {
      "application/vnd.dataresource+json": {
       "data": [
        {
         "index": 24039,
         "went_on_backorder": "No"
        },
        {
         "index": 12800,
         "went_on_backorder": "Yes"
        },
        {
         "index": 59501,
         "went_on_backorder": "Yes"
        },
        {
         "index": 35410,
         "went_on_backorder": "No"
        },
        {
         "index": 27604,
         "went_on_backorder": "No"
        }
       ],
       "schema": {
        "fields": [
         {
          "name": "index",
          "type": "integer"
         },
         {
          "constraints": {
           "enum": [
            "No",
            "Yes"
           ]
          },
          "name": "went_on_backorder",
          "ordered": false,
          "type": "any"
         }
        ],
        "pandas_version": "0.20.0",
        "primaryKey": [
         "index"
        ]
       }
      },
      "text/plain": [
       "24039     No\n",
       "12800    Yes\n",
       "59501    Yes\n",
       "35410     No\n",
       "27604     No\n",
       "Name: went_on_backorder, dtype: category\n",
       "Categories (2, object): [No, Yes]"
      ]
     },
     "execution_count": 47,
     "metadata": {},
     "output_type": "execute_result"
    }
   ],
   "source": [
    "y_train.head()"
   ]
  },
  {
   "cell_type": "markdown",
   "metadata": {},
   "source": [
    " Model - Grid CV"
   ]
  },
  {
   "cell_type": "code",
   "execution_count": 48,
   "metadata": {
    "pycharm": {
     "is_executing": false
    }
   },
   "outputs": [
    {
     "name": "stdout",
     "output_type": "stream",
     "text": [
      "Fitting 3 folds for each of 32 candidates, totalling 96 fits\n"
     ]
    },
    {
     "name": "stderr",
     "output_type": "stream",
     "text": [
      "[Parallel(n_jobs=-1)]: Using backend LokyBackend with 12 concurrent workers.\n",
      "[Parallel(n_jobs=-1)]: Done   1 tasks      | elapsed:    1.8s\n",
      "[Parallel(n_jobs=-1)]: Done   8 tasks      | elapsed:    1.8s\n",
      "[Parallel(n_jobs=-1)]: Done  17 tasks      | elapsed:    2.2s\n",
      "[Parallel(n_jobs=-1)]: Done  26 tasks      | elapsed:    2.5s\n",
      "[Parallel(n_jobs=-1)]: Done  37 tasks      | elapsed:    2.9s\n",
      "[Parallel(n_jobs=-1)]: Done  48 tasks      | elapsed:    3.0s\n",
      "[Parallel(n_jobs=-1)]: Done  61 tasks      | elapsed:    3.7s\n",
      "[Parallel(n_jobs=-1)]: Done  83 out of  96 | elapsed:    4.2s remaining:    0.7s\n",
      "[Parallel(n_jobs=-1)]: Done  93 out of  96 | elapsed:    4.5s remaining:    0.1s\n",
      "[Parallel(n_jobs=-1)]: Done  96 out of  96 | elapsed:    4.5s finished\n"
     ]
    },
    {
     "data": {
      "text/plain": [
       "GridSearchCV(cv=3, error_score=nan,\n",
       "             estimator=DecisionTreeClassifier(ccp_alpha=0.0, class_weight=None,\n",
       "                                              criterion='gini', max_depth=None,\n",
       "                                              max_features=None,\n",
       "                                              max_leaf_nodes=None,\n",
       "                                              min_impurity_decrease=0.0,\n",
       "                                              min_impurity_split=None,\n",
       "                                              min_samples_leaf=1,\n",
       "                                              min_samples_split=2,\n",
       "                                              min_weight_fraction_leaf=0.0,\n",
       "                                              presort='deprecated',\n",
       "                                              random_state=None,\n",
       "                                              splitter='best'),\n",
       "             iid='deprecated', n_jobs=-1,\n",
       "             param_grid={'criterion': ['gini', 'entropy'],\n",
       "                         'max_depth': [None, 15, 20, 25],\n",
       "                         'min_samples_split': [2, 10, 20, 30]},\n",
       "             pre_dispatch='2*n_jobs', refit=True, return_train_score=False,\n",
       "             scoring=None, verbose=10)"
      ]
     },
     "execution_count": 48,
     "metadata": {},
     "output_type": "execute_result"
    }
   ],
   "source": [
    "param_grid = {'criterion':[\"gini\",\"entropy\"],'max_depth':[None,15,20,25],'min_samples_split':[2,10,20,30]}\n",
    "dt_cv_model = DecisionTreeClassifier()\n",
    "gs_object = GridSearchCV(dt_cv_model,param_grid=param_grid,verbose=10,n_jobs=-1, cv=3)\n",
    "gs_object.fit(X_train.values,y_train.values)\n"
   ]
  },
  {
   "cell_type": "code",
   "execution_count": 49,
   "metadata": {
    "pycharm": {
     "is_executing": false,
     "name": "#%%\n"
    }
   },
   "outputs": [
    {
     "data": {
      "text/plain": [
       "{'cv': 3,\n",
       " 'error_score': nan,\n",
       " 'estimator__ccp_alpha': 0.0,\n",
       " 'estimator__class_weight': None,\n",
       " 'estimator__criterion': 'gini',\n",
       " 'estimator__max_depth': None,\n",
       " 'estimator__max_features': None,\n",
       " 'estimator__max_leaf_nodes': None,\n",
       " 'estimator__min_impurity_decrease': 0.0,\n",
       " 'estimator__min_impurity_split': None,\n",
       " 'estimator__min_samples_leaf': 1,\n",
       " 'estimator__min_samples_split': 2,\n",
       " 'estimator__min_weight_fraction_leaf': 0.0,\n",
       " 'estimator__presort': 'deprecated',\n",
       " 'estimator__random_state': None,\n",
       " 'estimator__splitter': 'best',\n",
       " 'estimator': DecisionTreeClassifier(ccp_alpha=0.0, class_weight=None, criterion='gini',\n",
       "                        max_depth=None, max_features=None, max_leaf_nodes=None,\n",
       "                        min_impurity_decrease=0.0, min_impurity_split=None,\n",
       "                        min_samples_leaf=1, min_samples_split=2,\n",
       "                        min_weight_fraction_leaf=0.0, presort='deprecated',\n",
       "                        random_state=None, splitter='best'),\n",
       " 'iid': 'deprecated',\n",
       " 'n_jobs': -1,\n",
       " 'param_grid': {'criterion': ['gini', 'entropy'],\n",
       "  'max_depth': [None, 15, 20, 25],\n",
       "  'min_samples_split': [2, 10, 20, 30]},\n",
       " 'pre_dispatch': '2*n_jobs',\n",
       " 'refit': True,\n",
       " 'return_train_score': False,\n",
       " 'scoring': None,\n",
       " 'verbose': 10}"
      ]
     },
     "execution_count": 49,
     "metadata": {},
     "output_type": "execute_result"
    }
   ],
   "source": [
    "gs_object.get_params()"
   ]
  },
  {
   "cell_type": "code",
   "execution_count": 50,
   "metadata": {
    "pycharm": {
     "is_executing": false,
     "name": "#%%\n"
    }
   },
   "outputs": [
    {
     "data": {
      "text/plain": [
       "{'criterion': 'entropy', 'max_depth': None, 'min_samples_split': 2}"
      ]
     },
     "execution_count": 50,
     "metadata": {},
     "output_type": "execute_result"
    }
   ],
   "source": [
    "gs_object.best_params_"
   ]
  },
  {
   "cell_type": "code",
   "execution_count": 51,
   "metadata": {
    "pycharm": {
     "is_executing": false,
     "name": "#%%\n"
    }
   },
   "outputs": [
    {
     "data": {
      "text/plain": [
       "DecisionTreeClassifier(ccp_alpha=0.0, class_weight=None, criterion='entropy',\n",
       "                       max_depth=None, max_features=None, max_leaf_nodes=None,\n",
       "                       min_impurity_decrease=0.0, min_impurity_split=None,\n",
       "                       min_samples_leaf=1, min_samples_split=2,\n",
       "                       min_weight_fraction_leaf=0.0, presort='deprecated',\n",
       "                       random_state=None, splitter='best')"
      ]
     },
     "execution_count": 51,
     "metadata": {},
     "output_type": "execute_result"
    }
   ],
   "source": [
    "gs_object.best_estimator_"
   ]
  },
  {
   "cell_type": "code",
   "execution_count": 52,
   "metadata": {
    "pycharm": {
     "is_executing": false,
     "name": "#%%\n"
    }
   },
   "outputs": [],
   "source": [
    "y_train_grid_pred = gs_object.predict(X_train)\n",
    "y_test_grid_pred = gs_object.predict(X_test)"
   ]
  },
  {
   "cell_type": "code",
   "execution_count": 53,
   "metadata": {
    "pycharm": {
     "is_executing": false,
     "name": "#%%\n"
    }
   },
   "outputs": [
    {
     "data": {
      "text/plain": [
       "array([[33047,    20],\n",
       "       [   69,  7594]])"
      ]
     },
     "execution_count": 53,
     "metadata": {},
     "output_type": "execute_result"
    }
   ],
   "source": [
    "confusion_matrix(y_train,y_train_grid_pred)"
   ]
  },
  {
   "cell_type": "code",
   "execution_count": 54,
   "metadata": {
    "pycharm": {
     "is_executing": false,
     "name": "#%%\n"
    }
   },
   "outputs": [
    {
     "data": {
      "text/plain": [
       "array([[13207,   943],\n",
       "       [  770,  2536]])"
      ]
     },
     "execution_count": 54,
     "metadata": {},
     "output_type": "execute_result"
    }
   ],
   "source": [
    "confusion_matrix(y_test,y_test_grid_pred)\n"
   ]
  }
 ],
 "metadata": {
  "kernelspec": {
   "display_name": "atomenvglobalconda",
   "language": "python",
   "name": "envglobalconda"
  },
  "language_info": {
   "codemirror_mode": {
    "name": "ipython",
    "version": 3
   },
   "file_extension": ".py",
   "mimetype": "text/x-python",
   "name": "python",
   "nbconvert_exporter": "python",
   "pygments_lexer": "ipython3",
   "version": "3.8.1"
  },
  "pycharm": {
   "stem_cell": {
    "cell_type": "raw",
    "metadata": {
     "collapsed": false
    },
    "source": []
   }
  }
 },
 "nbformat": 4,
 "nbformat_minor": 2
}
